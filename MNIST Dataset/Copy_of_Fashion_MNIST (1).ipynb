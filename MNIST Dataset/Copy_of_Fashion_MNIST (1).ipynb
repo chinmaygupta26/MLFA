{
  "cells": [
    {
      "cell_type": "code",
      "execution_count": 58,
      "metadata": {
        "id": "KI70T1Wg7YXO"
      },
      "outputs": [],
      "source": [
        "import numpy as np\n",
        "import pandas as pd\n",
        "from matplotlib import pyplot as plt"
      ]
    },
    {
      "cell_type": "markdown",
      "metadata": {
        "id": "IHscfQZW74qL"
      },
      "source": [
        "##Loading Fashion Dataset."
      ]
    },
    {
      "cell_type": "code",
      "execution_count": 59,
      "metadata": {
        "id": "XBXk21yQ7ocF"
      },
      "outputs": [],
      "source": [
        "from torchvision.datasets import FashionMNIST\n",
        "from torchvision.transforms import ToTensor"
      ]
    },
    {
      "cell_type": "code",
      "execution_count": 60,
      "metadata": {
        "id": "cCLlSj_88RRz"
      },
      "outputs": [],
      "source": [
        "dataset = FashionMNIST(root='data/', download=True, transform=ToTensor())\n",
        "test_dataset = FashionMNIST(root='data/', train=False, transform=ToTensor())"
      ]
    },
    {
      "cell_type": "code",
      "execution_count": 61,
      "metadata": {
        "colab": {
          "base_uri": "https://localhost:8080/"
        },
        "id": "ZvmtXG65-m0K",
        "outputId": "36f2d310-0d11-4069-89a2-0cdaab32eb47"
      },
      "outputs": [
        {
          "data": {
            "text/plain": [
              "60000"
            ]
          },
          "execution_count": 61,
          "metadata": {},
          "output_type": "execute_result"
        }
      ],
      "source": [
        "len(dataset)"
      ]
    },
    {
      "cell_type": "markdown",
      "metadata": {
        "id": "RfQyHfQG-Bow"
      },
      "source": [
        "##Spliting train and dev set."
      ]
    },
    {
      "cell_type": "code",
      "execution_count": 62,
      "metadata": {
        "id": "uIeto3Rm-GxI"
      },
      "outputs": [],
      "source": [
        "from torch.utils.data import random_split"
      ]
    },
    {
      "cell_type": "code",
      "execution_count": 63,
      "metadata": {
        "id": "nR2QOoE1-WCv"
      },
      "outputs": [],
      "source": [
        "train_ds, val_ds = random_split(dataset, [50000, 10000])"
      ]
    },
    {
      "cell_type": "markdown",
      "metadata": {
        "id": "scpjech9-3U7"
      },
      "source": [
        "##Creating DataLoader"
      ]
    },
    {
      "cell_type": "code",
      "execution_count": 64,
      "metadata": {
        "id": "COIjYir2-2VI"
      },
      "outputs": [],
      "source": [
        "from torch.utils.data import DataLoader"
      ]
    },
    {
      "cell_type": "code",
      "execution_count": 65,
      "metadata": {
        "id": "zGuYwD45_Dy1"
      },
      "outputs": [],
      "source": [
        "train_loader = DataLoader(train_ds, batch_size = 64, shuffle = True , num_workers = 4, pin_memory = True)\n",
        "val_loader = DataLoader(val_ds, batch_size = 512, num_workers = 4, pin_memory = True)"
      ]
    },
    {
      "cell_type": "markdown",
      "metadata": {
        "id": "Kvhz53viBYnT"
      },
      "source": [
        "##Creating Model"
      ]
    },
    {
      "cell_type": "code",
      "execution_count": 66,
      "metadata": {
        "id": "_QbqX8hIBiUZ"
      },
      "outputs": [],
      "source": [
        "import torch\n",
        "import torch.nn as nn\n",
        "import torch.nn.functional as F"
      ]
    },
    {
      "cell_type": "code",
      "execution_count": 67,
      "metadata": {
        "id": "ySvM1oI5AI-X"
      },
      "outputs": [],
      "source": [
        "class FashionMnistModel1(nn.Module):\n",
        "  def __init__(self):\n",
        "    super().__init__()\n",
        "    self.linear1 = nn.Linear(784,256)\n",
        "    self.linear2 = nn.Linear(256,10)\n",
        "  \n",
        "  def forward(self,xb):\n",
        "    out = xb.view(xb.size(0), -1)\n",
        "    \n",
        "    output = self.linear1(out)\n",
        "    output = F.relu(output)\n",
        "\n",
        "    output = self.linear2(output)\n",
        "    output = F.relu(output)\n",
        "\n",
        "    return output\n",
        "  \n",
        "  def training_step(self,batch):\n",
        "    images , labels = batch\n",
        "    out = self(images)\n",
        "    loss = F.cross_entropy(out,labels)\n",
        "    return loss\n",
        "  \n",
        "  def validation_step(self,batch):\n",
        "    images , labels = batch\n",
        "    out = self(images)\n",
        "    loss = F.cross_entropy(out,labels)\n",
        "    acc = accuracy(out,labels)\n",
        "    return {'val_loss': loss , 'val_acc': acc}\n",
        "  \n",
        "  def validation_epoch_end(self,outputs):\n",
        "    batch_loss = [x['val_loss'] for x in outputs]\n",
        "    epoch_loss = torch.stack(batch_loss).mean()\n",
        "    batch_acc = [x['val_acc'] for x in outputs]\n",
        "    epoch_acc = torch.stack(batch_acc).mean()\n",
        "    return {'val_loss': epoch_loss.item(), 'val_acc': epoch_acc.item()}\n",
        "\n",
        "  def epoch_end(self, epoch, result):\n",
        "        print(\"Epoch [{}], val_loss: {:.4f}, val_acc: {:.4f}\".format(epoch, result['val_loss'], result['val_acc']))"
      ]
    },
    {
      "cell_type": "code",
      "execution_count": 68,
      "metadata": {
        "id": "66qRoYVCGRzv"
      },
      "outputs": [],
      "source": [
        "def accuracy(outputs,labels):\n",
        "  _,preds = torch.max(outputs,dim=1)\n",
        "  return torch.tensor(torch.sum(preds==labels).item() / len(preds))"
      ]
    },
    {
      "cell_type": "markdown",
      "metadata": {
        "id": "IIhHKRsQGwLP"
      },
      "source": [
        "##Connecting to GPU."
      ]
    },
    {
      "cell_type": "code",
      "execution_count": 69,
      "metadata": {
        "colab": {
          "base_uri": "https://localhost:8080/"
        },
        "id": "D4-5e2upGWJQ",
        "outputId": "904b06e2-c916-4210-86a1-8bd88063c86c"
      },
      "outputs": [
        {
          "data": {
            "text/plain": [
              "False"
            ]
          },
          "execution_count": 69,
          "metadata": {},
          "output_type": "execute_result"
        }
      ],
      "source": [
        "torch.cuda.is_available() "
      ]
    },
    {
      "cell_type": "code",
      "execution_count": 70,
      "metadata": {
        "id": "UebKSAOvG1Zj"
      },
      "outputs": [],
      "source": [
        "def get_default_device():\n",
        "    \"\"\"Pick GPU if available, else CPU\"\"\"\n",
        "    if torch.cuda.is_available():\n",
        "        return torch.device('cuda')\n",
        "    else:\n",
        "        return torch.device('cpu')"
      ]
    },
    {
      "cell_type": "code",
      "execution_count": 71,
      "metadata": {
        "colab": {
          "base_uri": "https://localhost:8080/"
        },
        "id": "gGq01PFiHCby",
        "outputId": "b64e1687-5479-4c75-da83-09b5620bbab8"
      },
      "outputs": [
        {
          "data": {
            "text/plain": [
              "device(type='cpu')"
            ]
          },
          "execution_count": 71,
          "metadata": {},
          "output_type": "execute_result"
        }
      ],
      "source": [
        "device = get_default_device()\n",
        "device"
      ]
    },
    {
      "cell_type": "code",
      "execution_count": 72,
      "metadata": {
        "id": "a2m0iqk8HDKP"
      },
      "outputs": [],
      "source": [
        "def to_device(data, device):\n",
        "    if isinstance(data, (list,tuple)):\n",
        "        return [to_device(x, device) for x in data]\n",
        "    return data.to(device, non_blocking=True)"
      ]
    },
    {
      "cell_type": "code",
      "execution_count": 73,
      "metadata": {
        "id": "yEtDIMShHLiq"
      },
      "outputs": [],
      "source": [
        "class DeviceDataLoader():\n",
        "    \"\"\"Wrap a dataloader to move data to a device\"\"\"\n",
        "    def __init__(self, dl, device):\n",
        "        self.dl = dl\n",
        "        self.device = device\n",
        "        \n",
        "    def __iter__(self):\n",
        "        \"\"\"Yield a batch of data after moving it to device\"\"\"\n",
        "        for b in self.dl: \n",
        "            yield to_device(b, self.device)\n",
        "\n",
        "    def __len__(self):\n",
        "        \"\"\"Number of batches\"\"\"\n",
        "        return len(self.dl)"
      ]
    },
    {
      "cell_type": "markdown",
      "metadata": {
        "id": "opm2kSCTHcYi"
      },
      "source": [
        "Moving data to GPU."
      ]
    },
    {
      "cell_type": "code",
      "execution_count": 74,
      "metadata": {
        "id": "gpcINYRJHYjV"
      },
      "outputs": [],
      "source": [
        "train_loader = DeviceDataLoader(train_loader, device)\n",
        "val_loader = DeviceDataLoader(val_loader, device)"
      ]
    },
    {
      "cell_type": "markdown",
      "metadata": {
        "id": "7XualjQwH7Gk"
      },
      "source": [
        "##Using the Created Model"
      ]
    },
    {
      "cell_type": "code",
      "execution_count": 75,
      "metadata": {
        "id": "91IOOU3GH4A5"
      },
      "outputs": [],
      "source": [
        "def evaluate(model,val_dl):\n",
        "  outputs = [model.validation_step(batch) for batch in val_dl]\n",
        "  return model.validation_epoch_end(outputs)"
      ]
    },
    {
      "cell_type": "code",
      "execution_count": 76,
      "metadata": {
        "id": "9wxK38NdIm7M"
      },
      "outputs": [],
      "source": [
        "def fit(epochs,lr,model,train_dl,val_dl,opt_func = torch.optim.SGD):\n",
        "  history = []\n",
        "  optimizer = opt_func(model.parameters(),lr)\n",
        "  for epoch in range(epochs):\n",
        "    for batch in train_dl:\n",
        "      loss = model.training_step(batch)\n",
        "      loss.backward()\n",
        "      optimizer.step()\n",
        "      optimizer.zero_grad()\n",
        "    \n",
        "    result = evaluate(model,val_dl)\n",
        "    model.epoch_end(epoch,result)\n",
        "    history.append(result)\n",
        "  return history"
      ]
    },
    {
      "cell_type": "code",
      "execution_count": 77,
      "metadata": {
        "colab": {
          "base_uri": "https://localhost:8080/"
        },
        "id": "Spix2PzmIkQ-",
        "outputId": "bd466762-54df-44e7-b9dc-1991df7fb0d5"
      },
      "outputs": [
        {
          "data": {
            "text/plain": [
              "FashionMnistModel1(\n",
              "  (linear1): Linear(in_features=784, out_features=256, bias=True)\n",
              "  (linear2): Linear(in_features=256, out_features=10, bias=True)\n",
              ")"
            ]
          },
          "execution_count": 77,
          "metadata": {},
          "output_type": "execute_result"
        }
      ],
      "source": [
        "model = FashionMnistModel1()\n",
        "to_device(model,device)"
      ]
    },
    {
      "cell_type": "code",
      "execution_count": 78,
      "metadata": {
        "id": "2eJnPzF0HlKI"
      },
      "outputs": [],
      "source": [
        "history1 = []\n",
        "history2 = []\n",
        "history3 = []\n",
        "history4 = []\n",
        "history5 = []\n",
        "history1 = [evaluate(model, val_loader)]\n",
        "history2 = [evaluate(model, val_loader)]\n",
        "history3 = [evaluate(model, val_loader)]\n",
        "history4 = [evaluate(model, val_loader)]\n",
        "history5 = [evaluate(model, val_loader)]"
      ]
    },
    {
      "cell_type": "code",
      "execution_count": 79,
      "metadata": {
        "colab": {
          "base_uri": "https://localhost:8080/"
        },
        "id": "2LC05a-YNbP6",
        "outputId": "6026feaa-31ec-460b-8878-2eb6b18ca053"
      },
      "outputs": [
        {
          "name": "stdout",
          "output_type": "stream",
          "text": [
            "Epoch [0], val_loss: 2.2704, val_acc: 0.2475\n",
            "Epoch [1], val_loss: 2.2483, val_acc: 0.2944\n",
            "Epoch [2], val_loss: 2.2267, val_acc: 0.3325\n",
            "Epoch [3], val_loss: 2.2011, val_acc: 0.3627\n",
            "Epoch [4], val_loss: 2.1748, val_acc: 0.3909\n",
            "Epoch [5], val_loss: 2.1502, val_acc: 0.4130\n",
            "Epoch [6], val_loss: 2.1262, val_acc: 0.4254\n",
            "Epoch [7], val_loss: 2.1026, val_acc: 0.4336\n",
            "Epoch [8], val_loss: 2.0794, val_acc: 0.4393\n",
            "Epoch [9], val_loss: 2.0564, val_acc: 0.4443\n",
            "Epoch [10], val_loss: 2.0337, val_acc: 0.4490\n",
            "Epoch [11], val_loss: 2.0114, val_acc: 0.4523\n",
            "Epoch [12], val_loss: 1.9896, val_acc: 0.4564\n",
            "Epoch [13], val_loss: 1.9683, val_acc: 0.4627\n",
            "Epoch [14], val_loss: 1.9475, val_acc: 0.4697\n",
            "Epoch [15], val_loss: 1.9272, val_acc: 0.4767\n",
            "Epoch [16], val_loss: 1.9075, val_acc: 0.4798\n",
            "Epoch [17], val_loss: 1.8884, val_acc: 0.4844\n",
            "Epoch [18], val_loss: 1.8698, val_acc: 0.4880\n",
            "Epoch [19], val_loss: 1.8518, val_acc: 0.4903\n"
          ]
        }
      ],
      "source": [
        "history1 += fit(20, 0.0001, model, train_loader, val_loader)"
      ]
    },
    {
      "cell_type": "code",
      "execution_count": 80,
      "metadata": {
        "colab": {
          "base_uri": "https://localhost:8080/"
        },
        "id": "oBoNRIUzQyqE",
        "outputId": "06cad730-4f81-4019-dcab-447b3f617163"
      },
      "outputs": [
        {
          "name": "stdout",
          "output_type": "stream",
          "text": [
            "Epoch [0], val_loss: 2.0791, val_acc: 0.4505\n",
            "Epoch [1], val_loss: 1.8583, val_acc: 0.4863\n",
            "Epoch [2], val_loss: 1.6755, val_acc: 0.5013\n",
            "Epoch [3], val_loss: 1.5143, val_acc: 0.5088\n",
            "Epoch [4], val_loss: 1.3401, val_acc: 0.5796\n",
            "Epoch [5], val_loss: 1.2449, val_acc: 0.5855\n",
            "Epoch [6], val_loss: 1.1814, val_acc: 0.5976\n",
            "Epoch [7], val_loss: 1.1335, val_acc: 0.6071\n",
            "Epoch [8], val_loss: 1.0955, val_acc: 0.6183\n",
            "Epoch [9], val_loss: 1.0635, val_acc: 0.6312\n",
            "Epoch [10], val_loss: 1.0358, val_acc: 0.6405\n",
            "Epoch [11], val_loss: 1.0115, val_acc: 0.6472\n",
            "Epoch [12], val_loss: 0.9898, val_acc: 0.6541\n",
            "Epoch [13], val_loss: 0.9700, val_acc: 0.6603\n",
            "Epoch [14], val_loss: 0.9528, val_acc: 0.6678\n",
            "Epoch [15], val_loss: 0.9364, val_acc: 0.6738\n",
            "Epoch [16], val_loss: 0.9226, val_acc: 0.6763\n",
            "Epoch [17], val_loss: 0.9090, val_acc: 0.6832\n",
            "Epoch [18], val_loss: 0.8976, val_acc: 0.6892\n",
            "Epoch [19], val_loss: 0.8858, val_acc: 0.6923\n"
          ]
        }
      ],
      "source": [
        "model = FashionMnistModel1()\n",
        "to_device(model,device)\n",
        "history2 += fit(20, 0.001, model, train_loader, val_loader)"
      ]
    },
    {
      "cell_type": "code",
      "execution_count": 81,
      "metadata": {
        "colab": {
          "base_uri": "https://localhost:8080/"
        },
        "id": "jA-Pl9BaIMNe",
        "outputId": "c091c016-a61f-4b05-9a83-86394a034218"
      },
      "outputs": [
        {
          "name": "stdout",
          "output_type": "stream",
          "text": [
            "Epoch [0], val_loss: 1.5451, val_acc: 0.4982\n",
            "Epoch [1], val_loss: 1.2915, val_acc: 0.6085\n",
            "Epoch [2], val_loss: 1.1674, val_acc: 0.6270\n",
            "Epoch [3], val_loss: 1.1280, val_acc: 0.6307\n",
            "Epoch [4], val_loss: 1.1040, val_acc: 0.6351\n",
            "Epoch [5], val_loss: 1.0900, val_acc: 0.6371\n",
            "Epoch [6], val_loss: 1.0812, val_acc: 0.6380\n",
            "Epoch [7], val_loss: 1.0672, val_acc: 0.6417\n",
            "Epoch [8], val_loss: 1.0601, val_acc: 0.6431\n",
            "Epoch [9], val_loss: 1.0545, val_acc: 0.6443\n",
            "Epoch [10], val_loss: 1.0563, val_acc: 0.6435\n",
            "Epoch [11], val_loss: 1.0448, val_acc: 0.6460\n",
            "Epoch [12], val_loss: 1.0414, val_acc: 0.6456\n",
            "Epoch [13], val_loss: 1.0385, val_acc: 0.6448\n",
            "Epoch [14], val_loss: 1.0305, val_acc: 0.6475\n",
            "Epoch [15], val_loss: 1.0307, val_acc: 0.6476\n",
            "Epoch [16], val_loss: 1.0340, val_acc: 0.6487\n",
            "Epoch [17], val_loss: 1.0219, val_acc: 0.6479\n",
            "Epoch [18], val_loss: 1.0277, val_acc: 0.6477\n",
            "Epoch [19], val_loss: 1.0188, val_acc: 0.6472\n"
          ]
        }
      ],
      "source": [
        "model = FashionMnistModel1()\n",
        "to_device(model,device)\n",
        "history3 += fit(20, 0.01, model, train_loader, val_loader)"
      ]
    },
    {
      "cell_type": "code",
      "execution_count": 82,
      "metadata": {
        "colab": {
          "base_uri": "https://localhost:8080/"
        },
        "id": "km0UwAF9IMGg",
        "outputId": "478cf12a-2f85-4c58-8c0f-0b227d57c3aa"
      },
      "outputs": [
        {
          "name": "stdout",
          "output_type": "stream",
          "text": [
            "Epoch [0], val_loss: 0.5454, val_acc: 0.7949\n",
            "Epoch [1], val_loss: 0.4871, val_acc: 0.8266\n",
            "Epoch [2], val_loss: 0.4142, val_acc: 0.8495\n",
            "Epoch [3], val_loss: 0.4763, val_acc: 0.8249\n",
            "Epoch [4], val_loss: 0.4817, val_acc: 0.8273\n",
            "Epoch [5], val_loss: 0.3936, val_acc: 0.8515\n",
            "Epoch [6], val_loss: 0.3747, val_acc: 0.8590\n",
            "Epoch [7], val_loss: 0.3566, val_acc: 0.8718\n",
            "Epoch [8], val_loss: 0.3451, val_acc: 0.8724\n",
            "Epoch [9], val_loss: 0.3463, val_acc: 0.8719\n",
            "Epoch [10], val_loss: 0.4037, val_acc: 0.8490\n",
            "Epoch [11], val_loss: 0.3617, val_acc: 0.8690\n",
            "Epoch [12], val_loss: 0.4385, val_acc: 0.8532\n",
            "Epoch [13], val_loss: 0.3410, val_acc: 0.8735\n",
            "Epoch [14], val_loss: 0.3615, val_acc: 0.8713\n",
            "Epoch [15], val_loss: 0.3827, val_acc: 0.8673\n",
            "Epoch [16], val_loss: 0.4808, val_acc: 0.8217\n",
            "Epoch [17], val_loss: 0.3348, val_acc: 0.8762\n",
            "Epoch [18], val_loss: 0.3694, val_acc: 0.8664\n",
            "Epoch [19], val_loss: 0.3300, val_acc: 0.8788\n"
          ]
        }
      ],
      "source": [
        "model = FashionMnistModel1()\n",
        "to_device(model,device)\n",
        "history4 += fit(20, 0.1, model, train_loader, val_loader)"
      ]
    },
    {
      "cell_type": "code",
      "execution_count": 83,
      "metadata": {
        "colab": {
          "base_uri": "https://localhost:8080/"
        },
        "id": "jSqPngSdIL5E",
        "outputId": "6541c032-f7c8-439b-f76a-ae8889944b79"
      },
      "outputs": [
        {
          "name": "stdout",
          "output_type": "stream",
          "text": [
            "Epoch [0], val_loss: 2.3026, val_acc: 0.1035\n",
            "Epoch [1], val_loss: 2.3026, val_acc: 0.1035\n",
            "Epoch [2], val_loss: 2.3026, val_acc: 0.1035\n",
            "Epoch [3], val_loss: 2.3026, val_acc: 0.1035\n",
            "Epoch [4], val_loss: 2.3026, val_acc: 0.1035\n",
            "Epoch [5], val_loss: 2.3026, val_acc: 0.1035\n",
            "Epoch [6], val_loss: 2.3026, val_acc: 0.1035\n",
            "Epoch [7], val_loss: 2.3026, val_acc: 0.1035\n",
            "Epoch [8], val_loss: 2.3026, val_acc: 0.1035\n",
            "Epoch [9], val_loss: 2.3026, val_acc: 0.1035\n",
            "Epoch [10], val_loss: 2.3026, val_acc: 0.1035\n",
            "Epoch [11], val_loss: 2.3026, val_acc: 0.1035\n",
            "Epoch [12], val_loss: 2.3026, val_acc: 0.1035\n",
            "Epoch [13], val_loss: 2.3026, val_acc: 0.1035\n",
            "Epoch [14], val_loss: 2.3026, val_acc: 0.1035\n",
            "Epoch [15], val_loss: 2.3026, val_acc: 0.1035\n",
            "Epoch [16], val_loss: 2.3026, val_acc: 0.1035\n",
            "Epoch [17], val_loss: 2.3026, val_acc: 0.1035\n",
            "Epoch [18], val_loss: 2.3026, val_acc: 0.1035\n",
            "Epoch [19], val_loss: 2.3026, val_acc: 0.1035\n"
          ]
        }
      ],
      "source": [
        "model = FashionMnistModel1()\n",
        "to_device(model,device)\n",
        "history5 += fit(20, 1, model, train_loader, val_loader)"
      ]
    },
    {
      "cell_type": "code",
      "execution_count": 84,
      "metadata": {
        "colab": {
          "base_uri": "https://localhost:8080/",
          "height": 295
        },
        "id": "xyqozWtFd8qt",
        "outputId": "80c20f8e-5b78-44d2-e565-eca9f950aa22"
      },
      "outputs": [
        {
          "data": {
            "image/png": "[encoded data removed]",
            "text/plain": [
              "<Figure size 640x480 with 1 Axes>"
            ]
          },
          "metadata": {},
          "output_type": "display_data"
        }
      ],
      "source": [
        "losses1 = [x['val_loss'] for x in history1]\n",
        "losses2 = [x['val_loss'] for x in history2]\n",
        "losses3 = [x['val_loss'] for x in history3]\n",
        "losses4 = [x['val_loss'] for x in history4]\n",
        "losses5 = [x['val_loss'] for x in history5]\n",
        "plt.plot(losses1,label = '0.0001')\n",
        "plt.plot(losses2,label = '0.001')\n",
        "plt.plot(losses3,label = '0.01')\n",
        "plt.plot(losses4,label = '0.1')\n",
        "plt.plot(losses5,label = '1')\n",
        "plt.xlabel('epoch')\n",
        "plt.ylabel('loss')\n",
        "plt.legend(loc='upper right')\n",
        "plt.title('Loss vs. No. of epochs');"
      ]
    },
    {
      "cell_type": "code",
      "execution_count": 85,
      "metadata": {
        "id": "q0TVTKaeTz6u"
      },
      "outputs": [],
      "source": [
        "class FashionMnistModel2(nn.Module):\n",
        "  def __init__(self):\n",
        "    super().__init__()\n",
        "    self.linear1 = nn.Linear(784,203)\n",
        "    self.linear2 = nn.Linear(203,203)\n",
        "    self.linear3 = nn.Linear(203,10)\n",
        "  \n",
        "  def forward(self,xb):\n",
        "    out = xb.view(xb.size(0), -1)\n",
        "    \n",
        "    output = self.linear1(out)\n",
        "    output = F.relu(output)\n",
        "\n",
        "    output = self.linear2(output)\n",
        "    output = F.relu(output)\n",
        "\n",
        "    output = self.linear3(output)\n",
        "    output = F.relu(output)\n",
        "\n",
        "    return output\n",
        "  \n",
        "  def training_step(self,batch):\n",
        "    images , labels = batch\n",
        "    out = self(images)\n",
        "    loss = F.cross_entropy(out,labels)\n",
        "    return loss\n",
        "  \n",
        "  def validation_step(self,batch):\n",
        "    images , labels = batch\n",
        "    out = self(images)\n",
        "    loss = F.cross_entropy(out,labels)\n",
        "    acc = accuracy(out,labels)\n",
        "    return {'val_loss': loss , 'val_acc': acc}\n",
        "  \n",
        "  def validation_epoch_end(self,outputs):\n",
        "    batch_loss = [x['val_loss'] for x in outputs]\n",
        "    epoch_loss = torch.stack(batch_loss).mean()\n",
        "    batch_acc = [x['val_acc'] for x in outputs]\n",
        "    epoch_acc = torch.stack(batch_acc).mean()\n",
        "    return {'val_loss': epoch_loss.item(), 'val_acc': epoch_acc.item()}\n",
        "\n",
        "  def epoch_end(self, epoch, result):\n",
        "        print(\"Epoch [{}], val_loss: {:.4f}, val_acc: {:.4f}\".format(epoch, result['val_loss'], result['val_acc']))"
      ]
    },
    {
      "cell_type": "code",
      "execution_count": 86,
      "metadata": {
        "colab": {
          "base_uri": "https://localhost:8080/"
        },
        "id": "nWCYkscsT4rZ",
        "outputId": "65395e96-c329-4c70-ffa4-ecb6118e124f"
      },
      "outputs": [
        {
          "data": {
            "text/plain": [
              "FashionMnistModel2(\n",
              "  (linear1): Linear(in_features=784, out_features=203, bias=True)\n",
              "  (linear2): Linear(in_features=203, out_features=203, bias=True)\n",
              "  (linear3): Linear(in_features=203, out_features=10, bias=True)\n",
              ")"
            ]
          },
          "execution_count": 86,
          "metadata": {},
          "output_type": "execute_result"
        }
      ],
      "source": [
        "model = FashionMnistModel2()\n",
        "to_device(model,device)"
      ]
    },
    {
      "cell_type": "code",
      "execution_count": 87,
      "metadata": {
        "id": "1mYDDs-KT4pT"
      },
      "outputs": [],
      "source": [
        "history6 = []\n",
        "history7 = []\n",
        "history8 = []\n",
        "history9 = []\n",
        "history10 = []\n",
        "history6 = [evaluate(model, val_loader)]\n",
        "history7 = [evaluate(model, val_loader)]\n",
        "history8 = [evaluate(model, val_loader)]\n",
        "history9 = [evaluate(model, val_loader)]\n",
        "history10 = [evaluate(model, val_loader)]"
      ]
    },
    {
      "cell_type": "code",
      "execution_count": 88,
      "metadata": {
        "colab": {
          "base_uri": "https://localhost:8080/"
        },
        "id": "o5v306f0T4mZ",
        "outputId": "b240c91d-b974-432d-8a45-647d87353521"
      },
      "outputs": [
        {
          "name": "stdout",
          "output_type": "stream",
          "text": [
            "Epoch [0], val_loss: 2.2971, val_acc: 0.1457\n",
            "Epoch [1], val_loss: 2.2933, val_acc: 0.1536\n",
            "Epoch [2], val_loss: 2.2890, val_acc: 0.1664\n",
            "Epoch [3], val_loss: 2.2848, val_acc: 0.1843\n",
            "Epoch [4], val_loss: 2.2808, val_acc: 0.2106\n",
            "Epoch [5], val_loss: 2.2768, val_acc: 0.2346\n",
            "Epoch [6], val_loss: 2.2728, val_acc: 0.2546\n",
            "Epoch [7], val_loss: 2.2687, val_acc: 0.2717\n",
            "Epoch [8], val_loss: 2.2645, val_acc: 0.2822\n",
            "Epoch [9], val_loss: 2.2601, val_acc: 0.2913\n",
            "Epoch [10], val_loss: 2.2557, val_acc: 0.3026\n",
            "Epoch [11], val_loss: 2.2511, val_acc: 0.3145\n",
            "Epoch [12], val_loss: 2.2464, val_acc: 0.3259\n",
            "Epoch [13], val_loss: 2.2415, val_acc: 0.3347\n",
            "Epoch [14], val_loss: 2.2364, val_acc: 0.3420\n",
            "Epoch [15], val_loss: 2.2312, val_acc: 0.3509\n",
            "Epoch [16], val_loss: 2.2257, val_acc: 0.3549\n",
            "Epoch [17], val_loss: 2.2198, val_acc: 0.3572\n",
            "Epoch [18], val_loss: 2.2129, val_acc: 0.3575\n",
            "Epoch [19], val_loss: 2.2048, val_acc: 0.3569\n"
          ]
        }
      ],
      "source": [
        "model = FashionMnistModel2()\n",
        "to_device(model,device)\n",
        "history6 += fit(20, 0.0001, model, train_loader, val_loader)"
      ]
    },
    {
      "cell_type": "code",
      "execution_count": 89,
      "metadata": {
        "colab": {
          "base_uri": "https://localhost:8080/"
        },
        "id": "3auNtSJzUIxl",
        "outputId": "18259132-14a8-4731-b34c-f1d8a46f768b"
      },
      "outputs": [
        {
          "name": "stdout",
          "output_type": "stream",
          "text": [
            "Epoch [0], val_loss: 2.2527, val_acc: 0.3262\n",
            "Epoch [1], val_loss: 2.1841, val_acc: 0.4596\n",
            "Epoch [2], val_loss: 2.0926, val_acc: 0.4885\n",
            "Epoch [3], val_loss: 1.9756, val_acc: 0.4926\n",
            "Epoch [4], val_loss: 1.8550, val_acc: 0.4991\n",
            "Epoch [5], val_loss: 1.7540, val_acc: 0.5146\n",
            "Epoch [6], val_loss: 1.6693, val_acc: 0.5197\n",
            "Epoch [7], val_loss: 1.5976, val_acc: 0.5385\n",
            "Epoch [8], val_loss: 1.5382, val_acc: 0.5426\n",
            "Epoch [9], val_loss: 1.4911, val_acc: 0.5517\n",
            "Epoch [10], val_loss: 1.4532, val_acc: 0.5538\n",
            "Epoch [11], val_loss: 1.4232, val_acc: 0.5612\n",
            "Epoch [12], val_loss: 1.3979, val_acc: 0.5645\n",
            "Epoch [13], val_loss: 1.3764, val_acc: 0.5651\n",
            "Epoch [14], val_loss: 1.3575, val_acc: 0.5704\n",
            "Epoch [15], val_loss: 1.3410, val_acc: 0.5766\n",
            "Epoch [16], val_loss: 1.3258, val_acc: 0.5822\n",
            "Epoch [17], val_loss: 1.3117, val_acc: 0.5825\n",
            "Epoch [18], val_loss: 1.2984, val_acc: 0.5907\n",
            "Epoch [19], val_loss: 1.2859, val_acc: 0.5916\n"
          ]
        }
      ],
      "source": [
        "model = FashionMnistModel2()\n",
        "to_device(model,device)\n",
        "history7 += fit(20, 0.001, model, train_loader, val_loader)"
      ]
    },
    {
      "cell_type": "code",
      "execution_count": 90,
      "metadata": {
        "colab": {
          "base_uri": "https://localhost:8080/"
        },
        "id": "DNwRrRNfUJot",
        "outputId": "e86b8912-5e46-4845-8405-ef3c8bbd6220"
      },
      "outputs": [
        {
          "name": "stdout",
          "output_type": "stream",
          "text": [
            "Epoch [0], val_loss: 1.4133, val_acc: 0.5462\n",
            "Epoch [1], val_loss: 1.1576, val_acc: 0.6022\n",
            "Epoch [2], val_loss: 1.0665, val_acc: 0.6322\n",
            "Epoch [3], val_loss: 0.9840, val_acc: 0.6642\n",
            "Epoch [4], val_loss: 0.9510, val_acc: 0.6739\n",
            "Epoch [5], val_loss: 1.0089, val_acc: 0.6386\n",
            "Epoch [6], val_loss: 0.9284, val_acc: 0.6745\n",
            "Epoch [7], val_loss: 0.8962, val_acc: 0.6858\n",
            "Epoch [8], val_loss: 0.8736, val_acc: 0.6909\n",
            "Epoch [9], val_loss: 0.9047, val_acc: 0.6737\n",
            "Epoch [10], val_loss: 0.8611, val_acc: 0.6942\n",
            "Epoch [11], val_loss: 0.8700, val_acc: 0.6904\n",
            "Epoch [12], val_loss: 0.9000, val_acc: 0.6807\n",
            "Epoch [13], val_loss: 0.8511, val_acc: 0.6973\n",
            "Epoch [14], val_loss: 0.8546, val_acc: 0.6897\n",
            "Epoch [15], val_loss: 0.8324, val_acc: 0.6984\n",
            "Epoch [16], val_loss: 0.8334, val_acc: 0.6997\n",
            "Epoch [17], val_loss: 0.8282, val_acc: 0.7019\n",
            "Epoch [18], val_loss: 0.8320, val_acc: 0.6998\n",
            "Epoch [19], val_loss: 0.8237, val_acc: 0.6998\n"
          ]
        }
      ],
      "source": [
        "model = FashionMnistModel2()\n",
        "to_device(model,device)\n",
        "history8 += fit(20, 0.01, model, train_loader, val_loader)"
      ]
    },
    {
      "cell_type": "code",
      "execution_count": 91,
      "metadata": {
        "colab": {
          "base_uri": "https://localhost:8080/"
        },
        "id": "elACzmfLUKC_",
        "outputId": "f84c0dd0-72d5-4a07-d3b1-700e55a7e3b8"
      },
      "outputs": [
        {
          "name": "stdout",
          "output_type": "stream",
          "text": [
            "Epoch [0], val_loss: 1.2318, val_acc: 0.5483\n",
            "Epoch [1], val_loss: 1.0578, val_acc: 0.6191\n",
            "Epoch [2], val_loss: 0.8815, val_acc: 0.6606\n",
            "Epoch [3], val_loss: 0.8111, val_acc: 0.6859\n",
            "Epoch [4], val_loss: 1.0841, val_acc: 0.5993\n",
            "Epoch [5], val_loss: 0.8706, val_acc: 0.6528\n",
            "Epoch [6], val_loss: 0.7989, val_acc: 0.6849\n",
            "Epoch [7], val_loss: 0.7946, val_acc: 0.6893\n",
            "Epoch [8], val_loss: 0.8736, val_acc: 0.6525\n",
            "Epoch [9], val_loss: 0.7794, val_acc: 0.6893\n",
            "Epoch [10], val_loss: 0.7554, val_acc: 0.6991\n",
            "Epoch [11], val_loss: 0.7906, val_acc: 0.6850\n",
            "Epoch [12], val_loss: 0.7911, val_acc: 0.6868\n",
            "Epoch [13], val_loss: 0.8109, val_acc: 0.6806\n",
            "Epoch [14], val_loss: 0.7857, val_acc: 0.6904\n",
            "Epoch [15], val_loss: 0.7773, val_acc: 0.6930\n",
            "Epoch [16], val_loss: 0.7459, val_acc: 0.7027\n",
            "Epoch [17], val_loss: 0.7677, val_acc: 0.6983\n",
            "Epoch [18], val_loss: 0.8206, val_acc: 0.6845\n",
            "Epoch [19], val_loss: 0.7582, val_acc: 0.6982\n"
          ]
        }
      ],
      "source": [
        "model = FashionMnistModel2()\n",
        "to_device(model,device)\n",
        "history9 += fit(20, 0.1, model, train_loader, val_loader)"
      ]
    },
    {
      "cell_type": "code",
      "execution_count": 92,
      "metadata": {
        "colab": {
          "base_uri": "https://localhost:8080/"
        },
        "id": "C5h_IsRlU8rY",
        "outputId": "a848101c-3fef-48fc-96cd-dac23a6252a5"
      },
      "outputs": [
        {
          "name": "stdout",
          "output_type": "stream",
          "text": [
            "Epoch [0], val_loss: 1.9234, val_acc: 0.2856\n",
            "Epoch [1], val_loss: 1.6960, val_acc: 0.3722\n",
            "Epoch [2], val_loss: 1.6946, val_acc: 0.3753\n",
            "Epoch [3], val_loss: 1.7211, val_acc: 0.3619\n",
            "Epoch [4], val_loss: 1.6760, val_acc: 0.3797\n",
            "Epoch [5], val_loss: 1.7028, val_acc: 0.3736\n",
            "Epoch [6], val_loss: 1.6916, val_acc: 0.3745\n",
            "Epoch [7], val_loss: 1.9257, val_acc: 0.3471\n",
            "Epoch [8], val_loss: 1.6738, val_acc: 0.3813\n",
            "Epoch [9], val_loss: 1.6784, val_acc: 0.3800\n",
            "Epoch [10], val_loss: 1.7185, val_acc: 0.3709\n",
            "Epoch [11], val_loss: 1.6781, val_acc: 0.3826\n",
            "Epoch [12], val_loss: 1.6835, val_acc: 0.3774\n",
            "Epoch [13], val_loss: 1.6740, val_acc: 0.3816\n",
            "Epoch [14], val_loss: 1.6759, val_acc: 0.3815\n",
            "Epoch [15], val_loss: 2.0503, val_acc: 0.3424\n",
            "Epoch [16], val_loss: 1.6793, val_acc: 0.3827\n",
            "Epoch [17], val_loss: 2.0972, val_acc: 0.3225\n",
            "Epoch [18], val_loss: 1.7420, val_acc: 0.3326\n",
            "Epoch [19], val_loss: 1.6848, val_acc: 0.3816\n"
          ]
        }
      ],
      "source": [
        "model = FashionMnistModel2()\n",
        "to_device(model,device)\n",
        "history10 += fit(20, 1, model, train_loader, val_loader)"
      ]
    },
    {
      "cell_type": "code",
      "execution_count": 93,
      "metadata": {
        "colab": {
          "base_uri": "https://localhost:8080/",
          "height": 295
        },
        "id": "LSfjW6AImkHJ",
        "outputId": "0f865bd8-4509-4021-d795-55454b228c55"
      },
      "outputs": [
        {
          "data": {
            "image/png": "[encoded data removed]",
            "text/plain": [
              "<Figure size 640x480 with 1 Axes>"
            ]
          },
          "metadata": {},
          "output_type": "display_data"
        }
      ],
      "source": [
        "losses1 = [x['val_loss'] for x in history6]\n",
        "losses2 = [x['val_loss'] for x in history7]\n",
        "losses3 = [x['val_loss'] for x in history8]\n",
        "losses4 = [x['val_loss'] for x in history9]\n",
        "losses5 = [x['val_loss'] for x in history10]\n",
        "plt.plot(losses1,label = '0.0001')\n",
        "plt.plot(losses2,label = '0.001')\n",
        "plt.plot(losses3,label = '0.01')\n",
        "plt.plot(losses4,label = '0.1')\n",
        "plt.plot(losses5,label = '1')\n",
        "plt.xlabel('epoch')\n",
        "plt.ylabel('loss')\n",
        "plt.legend(loc='upper right')\n",
        "plt.title('Loss vs. No. of epochs');"
      ]
    },
    {
      "cell_type": "code",
      "execution_count": 94,
      "metadata": {
        "id": "j5jAkYoSJ4tj"
      },
      "outputs": [],
      "source": [
        "class FashionMnistModel3(nn.Module):\n",
        "  def __init__(self):\n",
        "    super().__init__()\n",
        "    self.linear1 = nn.Linear(784,176)\n",
        "    self.linear2 = nn.Linear(176,176)\n",
        "    self.linear3 = nn.Linear(176,176)\n",
        "    self.linear4 = nn.Linear(176,10)\n",
        "  \n",
        "  def forward(self,xb):\n",
        "    out = xb.view(xb.size(0), -1)\n",
        "    \n",
        "    output = self.linear1(out)\n",
        "    output = F.relu(output)\n",
        "\n",
        "    output = self.linear2(output)\n",
        "    output = F.relu(output)\n",
        "\n",
        "    output = self.linear3(output)\n",
        "    output = F.relu(output)\n",
        "\n",
        "    output = self.linear4(output)\n",
        "    output = F.relu(output)\n",
        "\n",
        "    return output\n",
        "  \n",
        "  def training_step(self,batch):\n",
        "    images , labels = batch\n",
        "    out = self(images)\n",
        "    loss = F.cross_entropy(out,labels)\n",
        "    return loss\n",
        "  \n",
        "  def validation_step(self,batch):\n",
        "    images , labels = batch\n",
        "    out = self(images)\n",
        "    loss = F.cross_entropy(out,labels)\n",
        "    acc = accuracy(out,labels)\n",
        "    return {'val_loss': loss , 'val_acc': acc}\n",
        "  \n",
        "  def validation_epoch_end(self,outputs):\n",
        "    batch_loss = [x['val_loss'] for x in outputs]\n",
        "    epoch_loss = torch.stack(batch_loss).mean()\n",
        "    batch_acc = [x['val_acc'] for x in outputs]\n",
        "    epoch_acc = torch.stack(batch_acc).mean()\n",
        "    return {'val_loss': epoch_loss.item(), 'val_acc': epoch_acc.item()}\n",
        "\n",
        "  def epoch_end(self, epoch, result):\n",
        "        print(\"Epoch [{}], val_loss: {:.4f}, val_acc: {:.4f}\".format(epoch, result['val_loss'], result['val_acc']))"
      ]
    },
    {
      "cell_type": "code",
      "execution_count": 95,
      "metadata": {
        "id": "q6DPyA_tsJE1"
      },
      "outputs": [],
      "source": [
        "train_loader = DeviceDataLoader(train_loader, device)\n",
        "val_loader = DeviceDataLoader(val_loader, device)"
      ]
    },
    {
      "cell_type": "code",
      "execution_count": 96,
      "metadata": {
        "colab": {
          "base_uri": "https://localhost:8080/"
        },
        "id": "i6rDhXKCUU8I",
        "outputId": "28e8b005-0e45-47d7-ca51-4bc40fd60e31"
      },
      "outputs": [
        {
          "data": {
            "text/plain": [
              "FashionMnistModel3(\n",
              "  (linear1): Linear(in_features=784, out_features=176, bias=True)\n",
              "  (linear2): Linear(in_features=176, out_features=176, bias=True)\n",
              "  (linear3): Linear(in_features=176, out_features=176, bias=True)\n",
              "  (linear4): Linear(in_features=176, out_features=10, bias=True)\n",
              ")"
            ]
          },
          "execution_count": 96,
          "metadata": {},
          "output_type": "execute_result"
        }
      ],
      "source": [
        "model = FashionMnistModel3()\n",
        "to_device(model,device)"
      ]
    },
    {
      "cell_type": "code",
      "execution_count": 97,
      "metadata": {
        "id": "PI5RmvYMUVcN"
      },
      "outputs": [],
      "source": [
        "history11 = []\n",
        "history12=  []\n",
        "history13 = []\n",
        "history14 = []\n",
        "history15 = []\n",
        "history11 = [evaluate(model, val_loader)]\n",
        "history12 = [evaluate(model, val_loader)]\n",
        "history13 = [evaluate(model, val_loader)]\n",
        "history14 = [evaluate(model, val_loader)]\n",
        "history15 = [evaluate(model, val_loader)]"
      ]
    },
    {
      "cell_type": "code",
      "execution_count": 98,
      "metadata": {
        "colab": {
          "base_uri": "https://localhost:8080/"
        },
        "id": "IvYZ4utMUXK2",
        "outputId": "da1e72a3-3369-47b4-b5ab-e1764c1c49c0"
      },
      "outputs": [
        {
          "name": "stdout",
          "output_type": "stream",
          "text": [
            "Epoch [0], val_loss: 2.3018, val_acc: 0.1401\n",
            "Epoch [1], val_loss: 2.3011, val_acc: 0.1548\n",
            "Epoch [2], val_loss: 2.3004, val_acc: 0.1673\n",
            "Epoch [3], val_loss: 2.2997, val_acc: 0.1782\n",
            "Epoch [4], val_loss: 2.2990, val_acc: 0.1880\n",
            "Epoch [5], val_loss: 2.2983, val_acc: 0.1979\n",
            "Epoch [6], val_loss: 2.2976, val_acc: 0.2089\n",
            "Epoch [7], val_loss: 2.2970, val_acc: 0.2199\n",
            "Epoch [8], val_loss: 2.2963, val_acc: 0.2317\n",
            "Epoch [9], val_loss: 2.2956, val_acc: 0.2428\n",
            "Epoch [10], val_loss: 2.2949, val_acc: 0.2569\n",
            "Epoch [11], val_loss: 2.2942, val_acc: 0.2705\n",
            "Epoch [12], val_loss: 2.2934, val_acc: 0.2824\n",
            "Epoch [13], val_loss: 2.2927, val_acc: 0.2960\n",
            "Epoch [14], val_loss: 2.2919, val_acc: 0.3058\n",
            "Epoch [15], val_loss: 2.2911, val_acc: 0.3166\n",
            "Epoch [16], val_loss: 2.2903, val_acc: 0.3261\n",
            "Epoch [17], val_loss: 2.2895, val_acc: 0.3351\n",
            "Epoch [18], val_loss: 2.2886, val_acc: 0.3427\n",
            "Epoch [19], val_loss: 2.2878, val_acc: 0.3487\n"
          ]
        }
      ],
      "source": [
        "model = FashionMnistModel3()\n",
        "to_device(model,device)\n",
        "history11 += fit(20, 0.0001, model, train_loader, val_loader)"
      ]
    },
    {
      "cell_type": "code",
      "execution_count": 99,
      "metadata": {
        "colab": {
          "base_uri": "https://localhost:8080/"
        },
        "id": "iAa1c4TjUh2x",
        "outputId": "da349bf8-53b9-40ba-99e7-3be5b30dd211"
      },
      "outputs": [
        {
          "name": "stdout",
          "output_type": "stream",
          "text": [
            "Epoch [0], val_loss: 2.2954, val_acc: 0.1006\n",
            "Epoch [1], val_loss: 2.2858, val_acc: 0.2351\n",
            "Epoch [2], val_loss: 2.2730, val_acc: 0.2704\n",
            "Epoch [3], val_loss: 2.2546, val_acc: 0.2938\n",
            "Epoch [4], val_loss: 2.2256, val_acc: 0.3493\n",
            "Epoch [5], val_loss: 2.1772, val_acc: 0.3757\n",
            "Epoch [6], val_loss: 2.0996, val_acc: 0.4143\n",
            "Epoch [7], val_loss: 1.9847, val_acc: 0.4386\n",
            "Epoch [8], val_loss: 1.8501, val_acc: 0.4142\n",
            "Epoch [9], val_loss: 1.7301, val_acc: 0.4277\n",
            "Epoch [10], val_loss: 1.6387, val_acc: 0.4409\n",
            "Epoch [11], val_loss: 1.5679, val_acc: 0.4496\n",
            "Epoch [12], val_loss: 1.5085, val_acc: 0.4587\n",
            "Epoch [13], val_loss: 1.4582, val_acc: 0.4686\n",
            "Epoch [14], val_loss: 1.4169, val_acc: 0.4711\n",
            "Epoch [15], val_loss: 1.3843, val_acc: 0.4766\n",
            "Epoch [16], val_loss: 1.3582, val_acc: 0.4830\n",
            "Epoch [17], val_loss: 1.3372, val_acc: 0.4850\n",
            "Epoch [18], val_loss: 1.3202, val_acc: 0.4853\n",
            "Epoch [19], val_loss: 1.3057, val_acc: 0.4892\n"
          ]
        }
      ],
      "source": [
        "model = FashionMnistModel3()\n",
        "to_device(model,device)\n",
        "history12 += fit(20, 0.001, model, train_loader, val_loader)"
      ]
    },
    {
      "cell_type": "code",
      "execution_count": 100,
      "metadata": {
        "colab": {
          "base_uri": "https://localhost:8080/"
        },
        "id": "jKZXPQ3oUiUU",
        "outputId": "1cb89d71-785d-40cc-dc5c-994fbe1f4ed1"
      },
      "outputs": [
        {
          "name": "stdout",
          "output_type": "stream",
          "text": [
            "Epoch [0], val_loss: 1.6682, val_acc: 0.4571\n",
            "Epoch [1], val_loss: 1.1808, val_acc: 0.5210\n",
            "Epoch [2], val_loss: 1.0099, val_acc: 0.6368\n",
            "Epoch [3], val_loss: 0.8333, val_acc: 0.7022\n",
            "Epoch [4], val_loss: 0.7987, val_acc: 0.7171\n",
            "Epoch [5], val_loss: 0.8001, val_acc: 0.7221\n",
            "Epoch [6], val_loss: 0.7667, val_acc: 0.7298\n",
            "Epoch [7], val_loss: 0.7236, val_acc: 0.7443\n",
            "Epoch [8], val_loss: 0.6879, val_acc: 0.7589\n",
            "Epoch [9], val_loss: 0.6776, val_acc: 0.7620\n",
            "Epoch [10], val_loss: 0.6646, val_acc: 0.7650\n",
            "Epoch [11], val_loss: 0.6507, val_acc: 0.7697\n",
            "Epoch [12], val_loss: 0.6786, val_acc: 0.7580\n",
            "Epoch [13], val_loss: 0.6503, val_acc: 0.7698\n",
            "Epoch [14], val_loss: 0.7002, val_acc: 0.7448\n",
            "Epoch [15], val_loss: 0.6714, val_acc: 0.7525\n",
            "Epoch [16], val_loss: 0.6879, val_acc: 0.7458\n",
            "Epoch [17], val_loss: 0.6190, val_acc: 0.7715\n",
            "Epoch [18], val_loss: 0.6230, val_acc: 0.7735\n",
            "Epoch [19], val_loss: 0.6339, val_acc: 0.7653\n"
          ]
        }
      ],
      "source": [
        "model = FashionMnistModel3()\n",
        "to_device(model,device)\n",
        "history13 += fit(20, 0.01, model, train_loader, val_loader)"
      ]
    },
    {
      "cell_type": "code",
      "execution_count": 101,
      "metadata": {
        "colab": {
          "base_uri": "https://localhost:8080/"
        },
        "id": "pzAsN9gKUjDc",
        "outputId": "8d51a03c-4d14-4e94-fc6e-dd04bd0e94d2"
      },
      "outputs": [
        {
          "name": "stdout",
          "output_type": "stream",
          "text": [
            "Epoch [0], val_loss: 0.9766, val_acc: 0.6319\n",
            "Epoch [1], val_loss: 0.8703, val_acc: 0.6886\n",
            "Epoch [2], val_loss: 0.6431, val_acc: 0.7655\n",
            "Epoch [3], val_loss: 0.6547, val_acc: 0.7535\n",
            "Epoch [4], val_loss: 0.7739, val_acc: 0.7120\n",
            "Epoch [5], val_loss: 0.6604, val_acc: 0.7616\n",
            "Epoch [6], val_loss: 0.4398, val_acc: 0.8402\n",
            "Epoch [7], val_loss: 1.0209, val_acc: 0.7537\n",
            "Epoch [8], val_loss: 0.3782, val_acc: 0.8518\n",
            "Epoch [9], val_loss: 0.3873, val_acc: 0.8574\n",
            "Epoch [10], val_loss: 0.3807, val_acc: 0.8589\n",
            "Epoch [11], val_loss: 0.4076, val_acc: 0.8599\n",
            "Epoch [12], val_loss: 0.3239, val_acc: 0.8829\n",
            "Epoch [13], val_loss: 0.3348, val_acc: 0.8765\n",
            "Epoch [14], val_loss: 0.3286, val_acc: 0.8737\n",
            "Epoch [15], val_loss: 0.3244, val_acc: 0.8812\n",
            "Epoch [16], val_loss: 0.5356, val_acc: 0.8380\n",
            "Epoch [17], val_loss: 0.4435, val_acc: 0.8336\n",
            "Epoch [18], val_loss: 0.3712, val_acc: 0.8633\n",
            "Epoch [19], val_loss: 0.6347, val_acc: 0.8084\n"
          ]
        }
      ],
      "source": [
        "model = FashionMnistModel3()\n",
        "to_device(model,device)\n",
        "history14 += fit(20, 0.1, model, train_loader, val_loader)"
      ]
    },
    {
      "cell_type": "code",
      "execution_count": 102,
      "metadata": {
        "colab": {
          "base_uri": "https://localhost:8080/"
        },
        "id": "nA9OooiEVIqv",
        "outputId": "a769e53c-0703-4ae5-9543-543a71b8acb4"
      },
      "outputs": [
        {
          "name": "stdout",
          "output_type": "stream",
          "text": [
            "Epoch [0], val_loss: 2.1288, val_acc: 0.1911\n",
            "Epoch [1], val_loss: 2.1086, val_acc: 0.1960\n",
            "Epoch [2], val_loss: 2.1068, val_acc: 0.1962\n",
            "Epoch [3], val_loss: 2.1016, val_acc: 0.1973\n",
            "Epoch [4], val_loss: 2.1009, val_acc: 0.1967\n",
            "Epoch [5], val_loss: 2.1004, val_acc: 0.1983\n",
            "Epoch [6], val_loss: 2.1293, val_acc: 0.1989\n",
            "Epoch [7], val_loss: 2.0982, val_acc: 0.1983\n",
            "Epoch [8], val_loss: 2.1150, val_acc: 0.1988\n",
            "Epoch [9], val_loss: 2.1529, val_acc: 0.1741\n",
            "Epoch [10], val_loss: 2.1035, val_acc: 0.1953\n",
            "Epoch [11], val_loss: 2.0992, val_acc: 0.1971\n",
            "Epoch [12], val_loss: 2.1007, val_acc: 0.1971\n",
            "Epoch [13], val_loss: 2.1038, val_acc: 0.1952\n",
            "Epoch [14], val_loss: 2.0972, val_acc: 0.1981\n",
            "Epoch [15], val_loss: 2.1034, val_acc: 0.1951\n",
            "Epoch [16], val_loss: 2.0996, val_acc: 0.1969\n",
            "Epoch [17], val_loss: 2.1234, val_acc: 0.1984\n",
            "Epoch [18], val_loss: 2.0973, val_acc: 0.1969\n",
            "Epoch [19], val_loss: 2.1076, val_acc: 0.1943\n"
          ]
        }
      ],
      "source": [
        "model = FashionMnistModel3()\n",
        "to_device(model,device)\n",
        "history15 += fit(20, 1, model, train_loader, val_loader)"
      ]
    },
    {
      "cell_type": "code",
      "execution_count": 103,
      "metadata": {
        "colab": {
          "base_uri": "https://localhost:8080/",
          "height": 295
        },
        "id": "s3zMG1SDmsNm",
        "outputId": "d9f5919e-df99-4eb3-c815-38fae8dc2117"
      },
      "outputs": [
        {
          "data": {
            "image/png": "[encoded data removed]",
            "text/plain": [
              "<Figure size 640x480 with 1 Axes>"
            ]
          },
          "metadata": {},
          "output_type": "display_data"
        }
      ],
      "source": [
        "losses1 = [x['val_loss'] for x in history11]\n",
        "losses2 = [x['val_loss'] for x in history12]\n",
        "losses3 = [x['val_loss'] for x in history13]\n",
        "losses4 = [x['val_loss'] for x in history14]\n",
        "losses5 = [x['val_loss'] for x in history15]\n",
        "plt.plot(losses1,label = '0.0001')\n",
        "plt.plot(losses2,label = '0.001')\n",
        "plt.plot(losses3,label = '0.01')\n",
        "plt.plot(losses4,label = '0.1')\n",
        "plt.plot(losses5,label = '1')\n",
        "plt.xlabel('epoch')\n",
        "plt.ylabel('loss')\n",
        "plt.legend(loc='upper right')\n",
        "plt.title('Loss vs. No. of epochs');"
      ]
    },
    {
      "cell_type": "markdown",
      "metadata": {
        "id": "Bpc2bxPaVZRd"
      },
      "source": [
        "Now Changing the batch size"
      ]
    },
    {
      "cell_type": "markdown",
      "metadata": {
        "id": "yOvk5OnxXTCz"
      },
      "source": [
        "For Model 1"
      ]
    },
    {
      "cell_type": "code",
      "execution_count": 104,
      "metadata": {
        "id": "PiwUPS_Lvgy0"
      },
      "outputs": [],
      "source": [
        "train_loader = DataLoader(train_ds, batch_size = 16, shuffle = True , num_workers = 4, pin_memory = True)\n",
        "val_loader = DataLoader(val_ds, batch_size = 512, num_workers = 4, pin_memory = True)"
      ]
    },
    {
      "cell_type": "code",
      "execution_count": 105,
      "metadata": {
        "colab": {
          "base_uri": "https://localhost:8080/"
        },
        "id": "2IYKmlh-V4HU",
        "outputId": "7889f053-8ab2-4c84-85f0-e34bcc51bf91"
      },
      "outputs": [
        {
          "data": {
            "text/plain": [
              "FashionMnistModel1(\n",
              "  (linear1): Linear(in_features=784, out_features=256, bias=True)\n",
              "  (linear2): Linear(in_features=256, out_features=10, bias=True)\n",
              ")"
            ]
          },
          "execution_count": 105,
          "metadata": {},
          "output_type": "execute_result"
        }
      ],
      "source": [
        "model = FashionMnistModel1()\n",
        "to_device(model,device)"
      ]
    },
    {
      "cell_type": "code",
      "execution_count": 106,
      "metadata": {
        "colab": {
          "base_uri": "https://localhost:8080/",
          "height": 380
        },
        "id": "0eoM95SnWYib",
        "outputId": "81d61487-0600-4757-a5a9-b7192bc107ae"
      },
      "outputs": [],
      "source": [
        "new_history1 = []\n",
        "new_history2 = []\n",
        "new_history3 = []\n",
        "new_history4 = []\n",
        "new_history5 = []\n",
        "new_history1 = [evaluate(model, val_loader)]\n",
        "new_history2 = [evaluate(model, val_loader)]\n",
        "new_history3 = [evaluate(model, val_loader)]\n",
        "new_history4= [evaluate(model, val_loader)]\n",
        "new_history5 = [evaluate(model, val_loader)]"
      ]
    },
    {
      "cell_type": "code",
      "execution_count": 107,
      "metadata": {
        "id": "aC1zKlRKWvRX"
      },
      "outputs": [],
      "source": [
        "train_loader = DataLoader(train_ds, batch_size = 16, shuffle = True , num_workers = 4, pin_memory = True)\n",
        "val_loader = DataLoader(val_ds, batch_size = 512, num_workers = 4, pin_memory = True)"
      ]
    },
    {
      "cell_type": "code",
      "execution_count": 108,
      "metadata": {
        "colab": {
          "base_uri": "https://localhost:8080/",
          "height": 311
        },
        "id": "gnGgakQoWJWD",
        "outputId": "fe6743c1-b7e0-423c-99e2-570a4223f1d8"
      },
      "outputs": [
        {
          "name": "stdout",
          "output_type": "stream",
          "text": [
            "Epoch [0], val_loss: 0.7518, val_acc: 0.7450\n",
            "Epoch [1], val_loss: 0.7086, val_acc: 0.7453\n",
            "Epoch [2], val_loss: 0.6513, val_acc: 0.7721\n",
            "Epoch [3], val_loss: 0.6280, val_acc: 0.7766\n",
            "Epoch [4], val_loss: 0.6541, val_acc: 0.7683\n",
            "Epoch [5], val_loss: 0.6214, val_acc: 0.7771\n",
            "Epoch [6], val_loss: 0.6078, val_acc: 0.7816\n",
            "Epoch [7], val_loss: 0.6129, val_acc: 0.7805\n",
            "Epoch [8], val_loss: 0.5797, val_acc: 0.7884\n",
            "Epoch [9], val_loss: 0.5808, val_acc: 0.7883\n",
            "Epoch [10], val_loss: 0.5773, val_acc: 0.7912\n",
            "Epoch [11], val_loss: 0.5869, val_acc: 0.7843\n",
            "Epoch [12], val_loss: 0.5706, val_acc: 0.7923\n",
            "Epoch [13], val_loss: 0.5650, val_acc: 0.7920\n",
            "Epoch [14], val_loss: 0.5566, val_acc: 0.7961\n",
            "Epoch [15], val_loss: 0.5517, val_acc: 0.7984\n",
            "Epoch [16], val_loss: 0.5437, val_acc: 0.8014\n",
            "Epoch [17], val_loss: 0.5487, val_acc: 0.7973\n",
            "Epoch [18], val_loss: 0.3682, val_acc: 0.8706\n",
            "Epoch [19], val_loss: 0.3583, val_acc: 0.8742\n"
          ]
        }
      ],
      "source": [
        "new_history1 += fit(20, 0.01, model, train_loader, val_loader)"
      ]
    },
    {
      "cell_type": "code",
      "execution_count": 109,
      "metadata": {
        "id": "89ItfduhWwSp"
      },
      "outputs": [],
      "source": [
        "train_loader = DataLoader(train_ds, batch_size = 64, shuffle = True , num_workers = 4, pin_memory = True)\n",
        "val_loader = DataLoader(val_ds, batch_size = 512, num_workers = 4, pin_memory = True)"
      ]
    },
    {
      "cell_type": "code",
      "execution_count": 110,
      "metadata": {
        "id": "jMfgjCTaWx_E"
      },
      "outputs": [
        {
          "name": "stdout",
          "output_type": "stream",
          "text": [
            "Epoch [0], val_loss: 0.3384, val_acc: 0.8815\n",
            "Epoch [1], val_loss: 0.3400, val_acc: 0.8806\n",
            "Epoch [2], val_loss: 0.3413, val_acc: 0.8817\n",
            "Epoch [3], val_loss: 0.3381, val_acc: 0.8800\n",
            "Epoch [4], val_loss: 0.3327, val_acc: 0.8818\n",
            "Epoch [5], val_loss: 0.3362, val_acc: 0.8818\n",
            "Epoch [6], val_loss: 0.3373, val_acc: 0.8787\n",
            "Epoch [7], val_loss: 0.3323, val_acc: 0.8843\n",
            "Epoch [8], val_loss: 0.3349, val_acc: 0.8816\n",
            "Epoch [9], val_loss: 0.3312, val_acc: 0.8807\n",
            "Epoch [10], val_loss: 0.3306, val_acc: 0.8808\n",
            "Epoch [11], val_loss: 0.3306, val_acc: 0.8826\n",
            "Epoch [12], val_loss: 0.3300, val_acc: 0.8831\n",
            "Epoch [13], val_loss: 0.3359, val_acc: 0.8827\n",
            "Epoch [14], val_loss: 0.3358, val_acc: 0.8808\n",
            "Epoch [15], val_loss: 0.3279, val_acc: 0.8844\n",
            "Epoch [16], val_loss: 0.3261, val_acc: 0.8862\n",
            "Epoch [17], val_loss: 0.3248, val_acc: 0.8842\n",
            "Epoch [18], val_loss: 0.3272, val_acc: 0.8839\n",
            "Epoch [19], val_loss: 0.3266, val_acc: 0.8835\n"
          ]
        }
      ],
      "source": [
        "new_history2 += fit(20, 0.01, model, train_loader, val_loader)"
      ]
    },
    {
      "cell_type": "code",
      "execution_count": 111,
      "metadata": {
        "id": "5oE3g-CHWy_-"
      },
      "outputs": [],
      "source": [
        "train_loader = DataLoader(train_ds, batch_size = 256, shuffle = True , num_workers = 4, pin_memory = True)\n",
        "val_loader = DataLoader(val_ds, batch_size = 512, num_workers = 4, pin_memory = True)"
      ]
    },
    {
      "cell_type": "code",
      "execution_count": 112,
      "metadata": {
        "id": "9vyrEPNJW3Az"
      },
      "outputs": [
        {
          "name": "stdout",
          "output_type": "stream",
          "text": [
            "Epoch [0], val_loss: 0.3223, val_acc: 0.8861\n",
            "Epoch [1], val_loss: 0.3231, val_acc: 0.8843\n",
            "Epoch [2], val_loss: 0.3227, val_acc: 0.8871\n",
            "Epoch [3], val_loss: 0.3215, val_acc: 0.8871\n",
            "Epoch [4], val_loss: 0.3229, val_acc: 0.8839\n",
            "Epoch [5], val_loss: 0.3215, val_acc: 0.8867\n",
            "Epoch [6], val_loss: 0.3257, val_acc: 0.8856\n",
            "Epoch [7], val_loss: 0.3214, val_acc: 0.8848\n",
            "Epoch [8], val_loss: 0.3214, val_acc: 0.8856\n",
            "Epoch [9], val_loss: 0.3236, val_acc: 0.8843\n",
            "Epoch [10], val_loss: 0.3214, val_acc: 0.8863\n",
            "Epoch [11], val_loss: 0.3223, val_acc: 0.8843\n",
            "Epoch [12], val_loss: 0.3208, val_acc: 0.8858\n",
            "Epoch [13], val_loss: 0.3204, val_acc: 0.8862\n",
            "Epoch [14], val_loss: 0.3202, val_acc: 0.8863\n",
            "Epoch [15], val_loss: 0.3232, val_acc: 0.8839\n",
            "Epoch [16], val_loss: 0.3212, val_acc: 0.8866\n",
            "Epoch [17], val_loss: 0.3201, val_acc: 0.8850\n",
            "Epoch [18], val_loss: 0.3218, val_acc: 0.8869\n",
            "Epoch [19], val_loss: 0.3199, val_acc: 0.8867\n"
          ]
        }
      ],
      "source": [
        "new_history3 += fit(20, 0.01, model, train_loader, val_loader)"
      ]
    },
    {
      "cell_type": "code",
      "execution_count": 113,
      "metadata": {
        "id": "GY1zfUmdW1J-"
      },
      "outputs": [],
      "source": [
        "train_loader = DataLoader(train_ds, batch_size = 1024, shuffle = True , num_workers = 4, pin_memory = True)\n",
        "val_loader = DataLoader(val_ds, batch_size = 512, num_workers = 4, pin_memory = True)"
      ]
    },
    {
      "cell_type": "code",
      "execution_count": 114,
      "metadata": {
        "id": "m0R7NPJNW3do"
      },
      "outputs": [
        {
          "name": "stdout",
          "output_type": "stream",
          "text": [
            "Epoch [0], val_loss: 0.3194, val_acc: 0.8863\n",
            "Epoch [1], val_loss: 0.3195, val_acc: 0.8862\n",
            "Epoch [2], val_loss: 0.3195, val_acc: 0.8866\n",
            "Epoch [3], val_loss: 0.3197, val_acc: 0.8866\n",
            "Epoch [4], val_loss: 0.3197, val_acc: 0.8853\n",
            "Epoch [5], val_loss: 0.3191, val_acc: 0.8865\n",
            "Epoch [6], val_loss: 0.3192, val_acc: 0.8867\n",
            "Epoch [7], val_loss: 0.3191, val_acc: 0.8872\n",
            "Epoch [8], val_loss: 0.3196, val_acc: 0.8864\n",
            "Epoch [9], val_loss: 0.3196, val_acc: 0.8870\n",
            "Epoch [10], val_loss: 0.3193, val_acc: 0.8866\n",
            "Epoch [11], val_loss: 0.3190, val_acc: 0.8866\n",
            "Epoch [12], val_loss: 0.3191, val_acc: 0.8864\n",
            "Epoch [13], val_loss: 0.3190, val_acc: 0.8858\n",
            "Epoch [14], val_loss: 0.3188, val_acc: 0.8868\n",
            "Epoch [15], val_loss: 0.3194, val_acc: 0.8864\n",
            "Epoch [16], val_loss: 0.3188, val_acc: 0.8870\n",
            "Epoch [17], val_loss: 0.3193, val_acc: 0.8864\n",
            "Epoch [18], val_loss: 0.3187, val_acc: 0.8869\n",
            "Epoch [19], val_loss: 0.3187, val_acc: 0.8868\n"
          ]
        }
      ],
      "source": [
        "new_history4 += fit(20, 0.01, model, train_loader, val_loader)"
      ]
    },
    {
      "cell_type": "code",
      "execution_count": 115,
      "metadata": {
        "id": "Hw_OA5uyW1y_"
      },
      "outputs": [],
      "source": [
        "train_loader = DataLoader(train_ds, batch_size = 2048, shuffle = True , num_workers = 4, pin_memory = True)\n",
        "val_loader = DataLoader(val_ds, batch_size = 512, num_workers = 4, pin_memory = True)"
      ]
    },
    {
      "cell_type": "code",
      "execution_count": 116,
      "metadata": {
        "id": "bwyZvTSwW3-c"
      },
      "outputs": [
        {
          "name": "stdout",
          "output_type": "stream",
          "text": [
            "Epoch [0], val_loss: 0.3189, val_acc: 0.8865\n",
            "Epoch [1], val_loss: 0.3190, val_acc: 0.8860\n",
            "Epoch [2], val_loss: 0.3189, val_acc: 0.8866\n",
            "Epoch [3], val_loss: 0.3188, val_acc: 0.8868\n",
            "Epoch [4], val_loss: 0.3188, val_acc: 0.8870\n",
            "Epoch [5], val_loss: 0.3187, val_acc: 0.8869\n",
            "Epoch [6], val_loss: 0.3187, val_acc: 0.8863\n",
            "Epoch [7], val_loss: 0.3188, val_acc: 0.8865\n",
            "Epoch [8], val_loss: 0.3186, val_acc: 0.8864\n",
            "Epoch [9], val_loss: 0.3185, val_acc: 0.8866\n",
            "Epoch [10], val_loss: 0.3189, val_acc: 0.8868\n",
            "Epoch [11], val_loss: 0.3187, val_acc: 0.8869\n",
            "Epoch [12], val_loss: 0.3186, val_acc: 0.8865\n",
            "Epoch [13], val_loss: 0.3187, val_acc: 0.8859\n",
            "Epoch [14], val_loss: 0.3184, val_acc: 0.8870\n",
            "Epoch [15], val_loss: 0.3187, val_acc: 0.8868\n",
            "Epoch [16], val_loss: 0.3186, val_acc: 0.8870\n",
            "Epoch [17], val_loss: 0.3186, val_acc: 0.8877\n",
            "Epoch [18], val_loss: 0.3184, val_acc: 0.8864\n",
            "Epoch [19], val_loss: 0.3185, val_acc: 0.8871\n"
          ]
        }
      ],
      "source": [
        "new_history5 += fit(20, 0.01, model, train_loader, val_loader)"
      ]
    },
    {
      "cell_type": "markdown",
      "metadata": {
        "id": "XLJW_p_xXWJ3"
      },
      "source": [
        "For Model 2"
      ]
    },
    {
      "cell_type": "code",
      "execution_count": 117,
      "metadata": {
        "id": "ebP080nrXhMQ"
      },
      "outputs": [
        {
          "data": {
            "text/plain": [
              "FashionMnistModel2(\n",
              "  (linear1): Linear(in_features=784, out_features=203, bias=True)\n",
              "  (linear2): Linear(in_features=203, out_features=203, bias=True)\n",
              "  (linear3): Linear(in_features=203, out_features=10, bias=True)\n",
              ")"
            ]
          },
          "execution_count": 117,
          "metadata": {},
          "output_type": "execute_result"
        }
      ],
      "source": [
        "model = FashionMnistModel2()\n",
        "to_device(model,device)"
      ]
    },
    {
      "cell_type": "code",
      "execution_count": 118,
      "metadata": {
        "id": "gCHRJjRrXhMQ"
      },
      "outputs": [],
      "source": [
        "new_history6 = []\n",
        "new_history7= []\n",
        "new_history8 = []\n",
        "new_history9 = []\n",
        "new_history10 = []\n",
        "new_history6 = [evaluate(model, val_loader)]\n",
        "new_history7 = [evaluate(model, val_loader)]\n",
        "new_history8 = [evaluate(model, val_loader)]\n",
        "new_history9= [evaluate(model, val_loader)]\n",
        "new_history10 = [evaluate(model, val_loader)]"
      ]
    },
    {
      "cell_type": "code",
      "execution_count": 119,
      "metadata": {
        "id": "7Pt7oO4DXhMQ"
      },
      "outputs": [],
      "source": [
        "train_loader = DataLoader(train_ds, batch_size = 16, shuffle = True , num_workers = 4, pin_memory = True)\n",
        "val_loader = DataLoader(val_ds, batch_size = 512, num_workers = 4, pin_memory = True)"
      ]
    },
    {
      "cell_type": "code",
      "execution_count": 120,
      "metadata": {
        "id": "pMaoehqVXhMQ"
      },
      "outputs": [
        {
          "name": "stdout",
          "output_type": "stream",
          "text": [
            "Epoch [0], val_loss: 0.5700, val_acc: 0.8024\n",
            "Epoch [1], val_loss: 0.4835, val_acc: 0.8342\n",
            "Epoch [2], val_loss: 0.4570, val_acc: 0.8399\n",
            "Epoch [3], val_loss: 0.4434, val_acc: 0.8393\n",
            "Epoch [4], val_loss: 0.4117, val_acc: 0.8546\n",
            "Epoch [5], val_loss: 0.4104, val_acc: 0.8525\n",
            "Epoch [6], val_loss: 0.3836, val_acc: 0.8622\n",
            "Epoch [7], val_loss: 0.3734, val_acc: 0.8633\n",
            "Epoch [8], val_loss: 0.3777, val_acc: 0.8630\n",
            "Epoch [9], val_loss: 0.3718, val_acc: 0.8655\n",
            "Epoch [10], val_loss: 0.3531, val_acc: 0.8699\n",
            "Epoch [11], val_loss: 0.3408, val_acc: 0.8754\n",
            "Epoch [12], val_loss: 0.3493, val_acc: 0.8723\n",
            "Epoch [13], val_loss: 0.3289, val_acc: 0.8793\n",
            "Epoch [14], val_loss: 0.3532, val_acc: 0.8715\n",
            "Epoch [15], val_loss: 0.3418, val_acc: 0.8763\n",
            "Epoch [16], val_loss: 0.3328, val_acc: 0.8800\n",
            "Epoch [17], val_loss: 0.3302, val_acc: 0.8795\n",
            "Epoch [18], val_loss: 0.3248, val_acc: 0.8786\n",
            "Epoch [19], val_loss: 0.3356, val_acc: 0.8759\n"
          ]
        }
      ],
      "source": [
        "new_history6 += fit(20, 0.01, model, train_loader, val_loader)"
      ]
    },
    {
      "cell_type": "code",
      "execution_count": 121,
      "metadata": {
        "id": "wlJkA7PSXhMQ"
      },
      "outputs": [],
      "source": [
        "train_loader = DataLoader(train_ds, batch_size = 64, shuffle = True , num_workers = 4, pin_memory = True)\n",
        "val_loader = DataLoader(val_ds, batch_size = 512, num_workers = 4, pin_memory = True)"
      ]
    },
    {
      "cell_type": "code",
      "execution_count": 122,
      "metadata": {
        "id": "hpyySCasXhMQ"
      },
      "outputs": [
        {
          "name": "stdout",
          "output_type": "stream",
          "text": [
            "Epoch [0], val_loss: 0.3095, val_acc: 0.8842\n",
            "Epoch [1], val_loss: 0.3064, val_acc: 0.8869\n",
            "Epoch [2], val_loss: 0.3100, val_acc: 0.8848\n",
            "Epoch [3], val_loss: 0.3087, val_acc: 0.8867\n",
            "Epoch [4], val_loss: 0.3039, val_acc: 0.8874\n",
            "Epoch [5], val_loss: 0.3126, val_acc: 0.8824\n",
            "Epoch [6], val_loss: 0.3081, val_acc: 0.8859\n",
            "Epoch [7], val_loss: 0.3107, val_acc: 0.8860\n",
            "Epoch [8], val_loss: 0.3024, val_acc: 0.8895\n",
            "Epoch [9], val_loss: 0.3009, val_acc: 0.8902\n",
            "Epoch [10], val_loss: 0.3131, val_acc: 0.8853\n",
            "Epoch [11], val_loss: 0.3082, val_acc: 0.8872\n",
            "Epoch [12], val_loss: 0.3080, val_acc: 0.8866\n",
            "Epoch [13], val_loss: 0.3023, val_acc: 0.8885\n",
            "Epoch [14], val_loss: 0.3103, val_acc: 0.8857\n",
            "Epoch [15], val_loss: 0.3137, val_acc: 0.8841\n",
            "Epoch [16], val_loss: 0.3142, val_acc: 0.8865\n",
            "Epoch [17], val_loss: 0.3047, val_acc: 0.8902\n",
            "Epoch [18], val_loss: 0.3117, val_acc: 0.8874\n",
            "Epoch [19], val_loss: 0.3084, val_acc: 0.8876\n"
          ]
        }
      ],
      "source": [
        "new_history7 += fit(20, 0.01, model, train_loader, val_loader)"
      ]
    },
    {
      "cell_type": "code",
      "execution_count": 123,
      "metadata": {
        "id": "kgNmpBMYXhMR"
      },
      "outputs": [],
      "source": [
        "train_loader = DataLoader(train_ds, batch_size = 256, shuffle = True , num_workers = 4, pin_memory = True)\n",
        "val_loader = DataLoader(val_ds, batch_size = 512, num_workers = 4, pin_memory = True)"
      ]
    },
    {
      "cell_type": "code",
      "execution_count": 124,
      "metadata": {
        "id": "g8n8eKNTXhMR"
      },
      "outputs": [
        {
          "name": "stdout",
          "output_type": "stream",
          "text": [
            "Epoch [0], val_loss: 0.2977, val_acc: 0.8920\n",
            "Epoch [1], val_loss: 0.2953, val_acc: 0.8934\n",
            "Epoch [2], val_loss: 0.2959, val_acc: 0.8926\n",
            "Epoch [3], val_loss: 0.3064, val_acc: 0.8891\n",
            "Epoch [4], val_loss: 0.2950, val_acc: 0.8931\n",
            "Epoch [5], val_loss: 0.2952, val_acc: 0.8921\n",
            "Epoch [6], val_loss: 0.2973, val_acc: 0.8935\n",
            "Epoch [7], val_loss: 0.2965, val_acc: 0.8940\n",
            "Epoch [8], val_loss: 0.2965, val_acc: 0.8912\n",
            "Epoch [9], val_loss: 0.2994, val_acc: 0.8929\n",
            "Epoch [10], val_loss: 0.2997, val_acc: 0.8910\n",
            "Epoch [11], val_loss: 0.2961, val_acc: 0.8915\n",
            "Epoch [12], val_loss: 0.2987, val_acc: 0.8895\n",
            "Epoch [13], val_loss: 0.2968, val_acc: 0.8917\n",
            "Epoch [14], val_loss: 0.2988, val_acc: 0.8915\n",
            "Epoch [15], val_loss: 0.3008, val_acc: 0.8905\n",
            "Epoch [16], val_loss: 0.2980, val_acc: 0.8928\n",
            "Epoch [17], val_loss: 0.3010, val_acc: 0.8922\n",
            "Epoch [18], val_loss: 0.2976, val_acc: 0.8916\n",
            "Epoch [19], val_loss: 0.2970, val_acc: 0.8925\n"
          ]
        }
      ],
      "source": [
        "new_history8 += fit(20, 0.01, model, train_loader, val_loader)"
      ]
    },
    {
      "cell_type": "code",
      "execution_count": 125,
      "metadata": {
        "id": "ZklKQ8zNXhMR"
      },
      "outputs": [],
      "source": [
        "train_loader = DataLoader(train_ds, batch_size = 1024, shuffle = True , num_workers = 4, pin_memory = True)\n",
        "val_loader = DataLoader(val_ds, batch_size = 512, num_workers = 4, pin_memory = True)"
      ]
    },
    {
      "cell_type": "code",
      "execution_count": 126,
      "metadata": {
        "id": "edB6gANdXhMR"
      },
      "outputs": [
        {
          "name": "stdout",
          "output_type": "stream",
          "text": [
            "Epoch [0], val_loss: 0.2949, val_acc: 0.8947\n",
            "Epoch [1], val_loss: 0.2950, val_acc: 0.8945\n",
            "Epoch [2], val_loss: 0.2949, val_acc: 0.8934\n",
            "Epoch [3], val_loss: 0.2949, val_acc: 0.8952\n",
            "Epoch [4], val_loss: 0.2952, val_acc: 0.8945\n",
            "Epoch [5], val_loss: 0.2952, val_acc: 0.8943\n",
            "Epoch [6], val_loss: 0.2948, val_acc: 0.8943\n",
            "Epoch [7], val_loss: 0.2955, val_acc: 0.8940\n",
            "Epoch [8], val_loss: 0.2952, val_acc: 0.8941\n",
            "Epoch [9], val_loss: 0.2949, val_acc: 0.8944\n",
            "Epoch [10], val_loss: 0.2955, val_acc: 0.8946\n",
            "Epoch [11], val_loss: 0.2953, val_acc: 0.8937\n",
            "Epoch [12], val_loss: 0.2959, val_acc: 0.8929\n",
            "Epoch [13], val_loss: 0.2955, val_acc: 0.8927\n",
            "Epoch [14], val_loss: 0.2954, val_acc: 0.8930\n",
            "Epoch [15], val_loss: 0.2956, val_acc: 0.8951\n",
            "Epoch [16], val_loss: 0.2956, val_acc: 0.8933\n",
            "Epoch [17], val_loss: 0.2961, val_acc: 0.8927\n",
            "Epoch [18], val_loss: 0.2956, val_acc: 0.8950\n",
            "Epoch [19], val_loss: 0.2959, val_acc: 0.8949\n"
          ]
        }
      ],
      "source": [
        "new_history9 += fit(20, 0.01, model, train_loader, val_loader)"
      ]
    },
    {
      "cell_type": "code",
      "execution_count": 127,
      "metadata": {
        "id": "SNOKNU9CXhMR"
      },
      "outputs": [],
      "source": [
        "train_loader = DataLoader(train_ds, batch_size = 2048, shuffle = True , num_workers = 4, pin_memory = True)\n",
        "val_loader = DataLoader(val_ds, batch_size = 512, num_workers = 4, pin_memory = True)"
      ]
    },
    {
      "cell_type": "code",
      "execution_count": 128,
      "metadata": {
        "id": "UKQ1vlGEXhMR"
      },
      "outputs": [
        {
          "name": "stdout",
          "output_type": "stream",
          "text": [
            "Epoch [0], val_loss: 0.2964, val_acc: 0.8952\n",
            "Epoch [1], val_loss: 0.2949, val_acc: 0.8953\n",
            "Epoch [2], val_loss: 0.2952, val_acc: 0.8939\n",
            "Epoch [3], val_loss: 0.2955, val_acc: 0.8936\n",
            "Epoch [4], val_loss: 0.2959, val_acc: 0.8929\n",
            "Epoch [5], val_loss: 0.2957, val_acc: 0.8928\n",
            "Epoch [6], val_loss: 0.2951, val_acc: 0.8937\n",
            "Epoch [7], val_loss: 0.2951, val_acc: 0.8942\n",
            "Epoch [8], val_loss: 0.2953, val_acc: 0.8942\n",
            "Epoch [9], val_loss: 0.2955, val_acc: 0.8940\n",
            "Epoch [10], val_loss: 0.2956, val_acc: 0.8934\n",
            "Epoch [11], val_loss: 0.2957, val_acc: 0.8950\n",
            "Epoch [12], val_loss: 0.2951, val_acc: 0.8942\n",
            "Epoch [13], val_loss: 0.2954, val_acc: 0.8946\n",
            "Epoch [14], val_loss: 0.2953, val_acc: 0.8945\n",
            "Epoch [15], val_loss: 0.2954, val_acc: 0.8933\n",
            "Epoch [16], val_loss: 0.2952, val_acc: 0.8943\n",
            "Epoch [17], val_loss: 0.2952, val_acc: 0.8933\n",
            "Epoch [18], val_loss: 0.2955, val_acc: 0.8921\n",
            "Epoch [19], val_loss: 0.2957, val_acc: 0.8932\n"
          ]
        }
      ],
      "source": [
        "new_history10 += fit(20, 0.01, model, train_loader, val_loader)"
      ]
    },
    {
      "cell_type": "markdown",
      "metadata": {
        "id": "O-8jNfISX0P1"
      },
      "source": [
        "For Model 3"
      ]
    },
    {
      "cell_type": "code",
      "execution_count": 129,
      "metadata": {
        "id": "3P09vtTfX2Oq"
      },
      "outputs": [
        {
          "data": {
            "text/plain": [
              "FashionMnistModel3(\n",
              "  (linear1): Linear(in_features=784, out_features=176, bias=True)\n",
              "  (linear2): Linear(in_features=176, out_features=176, bias=True)\n",
              "  (linear3): Linear(in_features=176, out_features=176, bias=True)\n",
              "  (linear4): Linear(in_features=176, out_features=10, bias=True)\n",
              ")"
            ]
          },
          "execution_count": 129,
          "metadata": {},
          "output_type": "execute_result"
        }
      ],
      "source": [
        "model = FashionMnistModel3()\n",
        "to_device(model,device)"
      ]
    },
    {
      "cell_type": "code",
      "execution_count": 130,
      "metadata": {
        "id": "Mf-KoUpbX2Oq"
      },
      "outputs": [],
      "source": [
        "new_history11 = []\n",
        "new_history12 = []\n",
        "new_history13 = []\n",
        "new_history14 = []\n",
        "new_history15 = []\n",
        "new_history11 = [evaluate(model, val_loader)]\n",
        "new_history12 = [evaluate(model, val_loader)]\n",
        "new_history13 = [evaluate(model, val_loader)]\n",
        "new_history14= [evaluate(model, val_loader)]\n",
        "new_history15 = [evaluate(model, val_loader)]"
      ]
    },
    {
      "cell_type": "code",
      "execution_count": 131,
      "metadata": {
        "id": "l70LSPHpX2Oq"
      },
      "outputs": [],
      "source": [
        "train_loader = DataLoader(train_ds, batch_size = 16, shuffle = True , num_workers = 4, pin_memory = True)\n",
        "val_loader = DataLoader(val_ds, batch_size = 512, num_workers = 4, pin_memory = True)"
      ]
    },
    {
      "cell_type": "code",
      "execution_count": 132,
      "metadata": {
        "id": "WpyqnWIjX2Oq"
      },
      "outputs": [
        {
          "name": "stdout",
          "output_type": "stream",
          "text": [
            "Epoch [0], val_loss: 1.1562, val_acc: 0.6176\n",
            "Epoch [1], val_loss: 0.9883, val_acc: 0.7144\n",
            "Epoch [2], val_loss: 0.8488, val_acc: 0.7178\n",
            "Epoch [3], val_loss: 0.8144, val_acc: 0.7239\n",
            "Epoch [4], val_loss: 0.7886, val_acc: 0.7336\n",
            "Epoch [5], val_loss: 0.7790, val_acc: 0.7372\n",
            "Epoch [6], val_loss: 0.7600, val_acc: 0.7431\n",
            "Epoch [7], val_loss: 0.6142, val_acc: 0.8164\n",
            "Epoch [8], val_loss: 0.6094, val_acc: 0.8137\n",
            "Epoch [9], val_loss: 0.3913, val_acc: 0.8611\n",
            "Epoch [10], val_loss: 0.3818, val_acc: 0.8585\n",
            "Epoch [11], val_loss: 0.3550, val_acc: 0.8698\n",
            "Epoch [12], val_loss: 0.3820, val_acc: 0.8606\n",
            "Epoch [13], val_loss: 0.3903, val_acc: 0.8560\n",
            "Epoch [14], val_loss: 0.3416, val_acc: 0.8716\n",
            "Epoch [15], val_loss: 0.3303, val_acc: 0.8786\n",
            "Epoch [16], val_loss: 0.3298, val_acc: 0.8782\n",
            "Epoch [17], val_loss: 0.3287, val_acc: 0.8803\n",
            "Epoch [18], val_loss: 0.3276, val_acc: 0.8810\n",
            "Epoch [19], val_loss: 0.3286, val_acc: 0.8814\n"
          ]
        }
      ],
      "source": [
        "new_history11 += fit(20, 0.01, model, train_loader, val_loader)"
      ]
    },
    {
      "cell_type": "code",
      "execution_count": 133,
      "metadata": {
        "id": "X9KbsbbMX2Oq"
      },
      "outputs": [],
      "source": [
        "train_loader = DataLoader(train_ds, batch_size = 64, shuffle = True , num_workers = 4, pin_memory = True)\n",
        "val_loader = DataLoader(val_ds, batch_size = 512, num_workers = 4, pin_memory = True)"
      ]
    },
    {
      "cell_type": "code",
      "execution_count": 134,
      "metadata": {
        "id": "pF_KCRKDX2Oq"
      },
      "outputs": [
        {
          "name": "stdout",
          "output_type": "stream",
          "text": [
            "Epoch [0], val_loss: 0.3351, val_acc: 0.8773\n",
            "Epoch [1], val_loss: 0.3221, val_acc: 0.8846\n",
            "Epoch [2], val_loss: 0.3163, val_acc: 0.8858\n",
            "Epoch [3], val_loss: 0.3030, val_acc: 0.8907\n",
            "Epoch [4], val_loss: 0.3007, val_acc: 0.8911\n",
            "Epoch [5], val_loss: 0.3213, val_acc: 0.8812\n",
            "Epoch [6], val_loss: 0.3055, val_acc: 0.8894\n",
            "Epoch [7], val_loss: 0.3036, val_acc: 0.8908\n",
            "Epoch [8], val_loss: 0.3073, val_acc: 0.8882\n",
            "Epoch [9], val_loss: 0.3023, val_acc: 0.8903\n",
            "Epoch [10], val_loss: 0.3012, val_acc: 0.8930\n",
            "Epoch [11], val_loss: 0.3034, val_acc: 0.8922\n",
            "Epoch [12], val_loss: 0.3048, val_acc: 0.8922\n",
            "Epoch [13], val_loss: 0.3105, val_acc: 0.8908\n",
            "Epoch [14], val_loss: 0.3017, val_acc: 0.8943\n",
            "Epoch [15], val_loss: 0.3158, val_acc: 0.8871\n",
            "Epoch [16], val_loss: 0.3254, val_acc: 0.8867\n",
            "Epoch [17], val_loss: 0.3000, val_acc: 0.8902\n",
            "Epoch [18], val_loss: 0.3052, val_acc: 0.8925\n",
            "Epoch [19], val_loss: 0.3359, val_acc: 0.8780\n"
          ]
        }
      ],
      "source": [
        "new_history12 += fit(20, 0.01, model, train_loader, val_loader)"
      ]
    },
    {
      "cell_type": "code",
      "execution_count": 135,
      "metadata": {
        "id": "HbVLkBFUX2Oq"
      },
      "outputs": [],
      "source": [
        "train_loader = DataLoader(train_ds, batch_size = 256, shuffle = True , num_workers = 4, pin_memory = True)\n",
        "val_loader = DataLoader(val_ds, batch_size = 512, num_workers = 4, pin_memory = True)"
      ]
    },
    {
      "cell_type": "code",
      "execution_count": 136,
      "metadata": {
        "id": "02rIXsAoX2Oq"
      },
      "outputs": [
        {
          "name": "stdout",
          "output_type": "stream",
          "text": [
            "Epoch [0], val_loss: 0.3027, val_acc: 0.8943\n",
            "Epoch [1], val_loss: 0.3010, val_acc: 0.8940\n",
            "Epoch [2], val_loss: 0.3016, val_acc: 0.8935\n",
            "Epoch [3], val_loss: 0.3126, val_acc: 0.8921\n",
            "Epoch [4], val_loss: 0.3019, val_acc: 0.8937\n",
            "Epoch [5], val_loss: 0.3061, val_acc: 0.8926\n",
            "Epoch [6], val_loss: 0.3048, val_acc: 0.8928\n",
            "Epoch [7], val_loss: 0.3034, val_acc: 0.8935\n",
            "Epoch [8], val_loss: 0.3056, val_acc: 0.8928\n",
            "Epoch [9], val_loss: 0.3044, val_acc: 0.8935\n",
            "Epoch [10], val_loss: 0.3047, val_acc: 0.8935\n",
            "Epoch [11], val_loss: 0.3045, val_acc: 0.8930\n",
            "Epoch [12], val_loss: 0.3088, val_acc: 0.8916\n",
            "Epoch [13], val_loss: 0.3021, val_acc: 0.8945\n",
            "Epoch [14], val_loss: 0.3080, val_acc: 0.8925\n",
            "Epoch [15], val_loss: 0.3072, val_acc: 0.8944\n",
            "Epoch [16], val_loss: 0.3216, val_acc: 0.8898\n",
            "Epoch [17], val_loss: 0.3051, val_acc: 0.8934\n",
            "Epoch [18], val_loss: 0.3053, val_acc: 0.8937\n",
            "Epoch [19], val_loss: 0.3079, val_acc: 0.8916\n"
          ]
        }
      ],
      "source": [
        "new_history13 += fit(20, 0.01, model, train_loader, val_loader)"
      ]
    },
    {
      "cell_type": "code",
      "execution_count": 137,
      "metadata": {
        "id": "ObKnmsP5X2Oq"
      },
      "outputs": [],
      "source": [
        "train_loader = DataLoader(train_ds, batch_size = 1024, shuffle = True , num_workers = 4, pin_memory = True)\n",
        "val_loader = DataLoader(val_ds, batch_size = 512, num_workers = 4, pin_memory = True)"
      ]
    },
    {
      "cell_type": "code",
      "execution_count": 138,
      "metadata": {
        "id": "ERe5wxcXX2Or"
      },
      "outputs": [
        {
          "name": "stdout",
          "output_type": "stream",
          "text": [
            "Epoch [0], val_loss: 0.3038, val_acc: 0.8953\n",
            "Epoch [1], val_loss: 0.3044, val_acc: 0.8943\n",
            "Epoch [2], val_loss: 0.3043, val_acc: 0.8940\n",
            "Epoch [3], val_loss: 0.3044, val_acc: 0.8946\n",
            "Epoch [4], val_loss: 0.3041, val_acc: 0.8936\n",
            "Epoch [5], val_loss: 0.3044, val_acc: 0.8940\n",
            "Epoch [6], val_loss: 0.3050, val_acc: 0.8951\n",
            "Epoch [7], val_loss: 0.3059, val_acc: 0.8920\n",
            "Epoch [8], val_loss: 0.3052, val_acc: 0.8928\n",
            "Epoch [9], val_loss: 0.3055, val_acc: 0.8942\n",
            "Epoch [10], val_loss: 0.3044, val_acc: 0.8937\n",
            "Epoch [11], val_loss: 0.3050, val_acc: 0.8919\n",
            "Epoch [12], val_loss: 0.3046, val_acc: 0.8943\n",
            "Epoch [13], val_loss: 0.3047, val_acc: 0.8943\n",
            "Epoch [14], val_loss: 0.3052, val_acc: 0.8944\n",
            "Epoch [15], val_loss: 0.3065, val_acc: 0.8950\n",
            "Epoch [16], val_loss: 0.3056, val_acc: 0.8937\n",
            "Epoch [17], val_loss: 0.3056, val_acc: 0.8945\n",
            "Epoch [18], val_loss: 0.3053, val_acc: 0.8938\n",
            "Epoch [19], val_loss: 0.3059, val_acc: 0.8938\n"
          ]
        }
      ],
      "source": [
        "new_history14 += fit(20, 0.01, model, train_loader, val_loader)"
      ]
    },
    {
      "cell_type": "code",
      "execution_count": 139,
      "metadata": {
        "id": "MDIbdYT8X2Or"
      },
      "outputs": [],
      "source": [
        "train_loader = DataLoader(train_ds, batch_size = 2048, shuffle = True , num_workers = 4, pin_memory = True)\n",
        "val_loader = DataLoader(val_ds, batch_size = 512, num_workers = 4, pin_memory = True)"
      ]
    },
    {
      "cell_type": "code",
      "execution_count": 140,
      "metadata": {
        "id": "bQDpmmaHX2Or"
      },
      "outputs": [
        {
          "name": "stdout",
          "output_type": "stream",
          "text": [
            "Epoch [0], val_loss: 0.3067, val_acc: 0.8927\n",
            "Epoch [1], val_loss: 0.3058, val_acc: 0.8940\n",
            "Epoch [2], val_loss: 0.3073, val_acc: 0.8926\n",
            "Epoch [3], val_loss: 0.3054, val_acc: 0.8945\n",
            "Epoch [4], val_loss: 0.3063, val_acc: 0.8941\n",
            "Epoch [5], val_loss: 0.3058, val_acc: 0.8937\n",
            "Epoch [6], val_loss: 0.3057, val_acc: 0.8935\n",
            "Epoch [7], val_loss: 0.3061, val_acc: 0.8934\n",
            "Epoch [8], val_loss: 0.3063, val_acc: 0.8940\n",
            "Epoch [9], val_loss: 0.3072, val_acc: 0.8940\n",
            "Epoch [10], val_loss: 0.3063, val_acc: 0.8944\n",
            "Epoch [11], val_loss: 0.3063, val_acc: 0.8935\n",
            "Epoch [12], val_loss: 0.3070, val_acc: 0.8921\n",
            "Epoch [13], val_loss: 0.3069, val_acc: 0.8941\n",
            "Epoch [14], val_loss: 0.3062, val_acc: 0.8930\n",
            "Epoch [15], val_loss: 0.3064, val_acc: 0.8939\n",
            "Epoch [16], val_loss: 0.3059, val_acc: 0.8934\n",
            "Epoch [17], val_loss: 0.3068, val_acc: 0.8941\n",
            "Epoch [18], val_loss: 0.3068, val_acc: 0.8931\n",
            "Epoch [19], val_loss: 0.3065, val_acc: 0.8926\n"
          ]
        }
      ],
      "source": [
        "new_history15 += fit(20, 0.01, model, train_loader, val_loader)"
      ]
    },
    {
      "cell_type": "markdown",
      "metadata": {
        "id": "vrgest_3bcM6"
      },
      "source": [
        "Plotting the loss vs epochs"
      ]
    },
    {
      "cell_type": "markdown",
      "metadata": {
        "id": "Y1ywFfhnaPRF"
      },
      "source": [
        "Swaping model 1"
      ]
    },
    {
      "cell_type": "code",
      "execution_count": 141,
      "metadata": {
        "id": "G8QX3Me9aFba"
      },
      "outputs": [],
      "source": [
        "train_loader = DataLoader(train_ds, batch_size = 64, shuffle = True , num_workers = 4, pin_memory = True)\n",
        "val_loader = DataLoader(val_ds, batch_size = 512, num_workers = 4, pin_memory = True)"
      ]
    },
    {
      "cell_type": "code",
      "execution_count": 145,
      "metadata": {
        "id": "CZVD2K8qZtXw"
      },
      "outputs": [],
      "source": [
        "class FashionMnistModel1(nn.Module):\n",
        "  def __init__(self):\n",
        "    super().__init__()\n",
        "    self.linear1 = nn.Linear(784,512)\n",
        "    self.linear2 = nn.Linear(512,10)\n",
        "  \n",
        "  def forward(self,xb):\n",
        "    out = xb.view(xb.size(0), -1)\n",
        "    \n",
        "    output = self.linear1(out)\n",
        "    output = F.relu(output)\n",
        "\n",
        "    output = self.linear2(output)\n",
        "    output = F.relu(output)\n",
        "\n",
        "    return output\n",
        "  \n",
        "  def training_step(self,batch):\n",
        "    images , labels = batch\n",
        "    out = self(images)\n",
        "    loss = F.cross_entropy(out,labels)\n",
        "    return loss\n",
        "  \n",
        "  def validation_step(self,batch):\n",
        "    images , labels = batch\n",
        "    out = self(images)\n",
        "    loss = F.cross_entropy(out,labels)\n",
        "    acc = accuracy(out,labels)\n",
        "    return {'val_loss': loss , 'val_acc': acc}\n",
        "  \n",
        "  def validation_epoch_end(self,outputs):\n",
        "    batch_loss = [x['val_loss'] for x in outputs]\n",
        "    epoch_loss = torch.stack(batch_loss).mean()\n",
        "    batch_acc = [x['val_acc'] for x in outputs]\n",
        "    epoch_acc = torch.stack(batch_acc).mean()\n",
        "    return {'val_loss': epoch_loss.item(), 'val_acc': epoch_acc.item()}\n",
        "\n",
        "  def epoch_end(self, epoch, result):\n",
        "        print(\"Epoch [{}], val_loss: {:.4f}, val_acc: {:.4f}\".format(epoch, result['val_loss'], result['val_acc']))"
      ]
    },
    {
      "cell_type": "code",
      "execution_count": 146,
      "metadata": {
        "id": "ZSgxrmhiZ0dh"
      },
      "outputs": [
        {
          "data": {
            "text/plain": [
              "FashionMnistModel1(\n",
              "  (linear1): Linear(in_features=784, out_features=512, bias=True)\n",
              "  (linear2): Linear(in_features=512, out_features=10, bias=True)\n",
              ")"
            ]
          },
          "execution_count": 146,
          "metadata": {},
          "output_type": "execute_result"
        }
      ],
      "source": [
        "model = FashionMnistModel1()\n",
        "to_device(model,device)"
      ]
    },
    {
      "cell_type": "code",
      "execution_count": 147,
      "metadata": {
        "id": "edZOx9KRZ7wu"
      },
      "outputs": [],
      "source": [
        "new_history = []\n",
        "new_history = [evaluate(model, val_loader)]\n"
      ]
    },
    {
      "cell_type": "code",
      "execution_count": 148,
      "metadata": {
        "id": "GBp434e1aLes"
      },
      "outputs": [
        {
          "name": "stdout",
          "output_type": "stream",
          "text": [
            "Epoch [0], val_loss: 1.0420, val_acc: 0.6808\n",
            "Epoch [1], val_loss: 0.8845, val_acc: 0.7132\n",
            "Epoch [2], val_loss: 0.6051, val_acc: 0.7986\n",
            "Epoch [3], val_loss: 0.5628, val_acc: 0.8044\n",
            "Epoch [4], val_loss: 0.5257, val_acc: 0.8232\n",
            "Epoch [5], val_loss: 0.5036, val_acc: 0.8270\n",
            "Epoch [6], val_loss: 0.4916, val_acc: 0.8327\n",
            "Epoch [7], val_loss: 0.4769, val_acc: 0.8356\n",
            "Epoch [8], val_loss: 0.4743, val_acc: 0.8362\n",
            "Epoch [9], val_loss: 0.4699, val_acc: 0.8379\n",
            "Epoch [10], val_loss: 0.4579, val_acc: 0.8421\n",
            "Epoch [11], val_loss: 0.4635, val_acc: 0.8388\n",
            "Epoch [12], val_loss: 0.4591, val_acc: 0.8385\n",
            "Epoch [13], val_loss: 0.4533, val_acc: 0.8447\n",
            "Epoch [14], val_loss: 0.4393, val_acc: 0.8465\n",
            "Epoch [15], val_loss: 0.4468, val_acc: 0.8419\n",
            "Epoch [16], val_loss: 0.4305, val_acc: 0.8514\n",
            "Epoch [17], val_loss: 0.4270, val_acc: 0.8509\n",
            "Epoch [18], val_loss: 0.4307, val_acc: 0.8497\n",
            "Epoch [19], val_loss: 0.4417, val_acc: 0.8449\n"
          ]
        }
      ],
      "source": [
        "new_history += fit(20, 0.01, model, train_loader, val_loader)"
      ]
    },
    {
      "cell_type": "code",
      "execution_count": null,
      "metadata": {
        "id": "xt9OOUbIhSyC"
      },
      "outputs": [],
      "source": []
    }
  ],
  "metadata": {
    "accelerator": "GPU",
    "colab": {
      "provenance": []
    },
    "gpuClass": "standard",
    "kernelspec": {
      "display_name": "Python 3",
      "name": "python3"
    },
    "language_info": {
      "codemirror_mode": {
        "name": "ipython",
        "version": 3
      },
      "file_extension": ".py",
      "mimetype": "text/x-python",
      "name": "python",
      "nbconvert_exporter": "python",
      "pygments_lexer": "ipython3",
      "version": "3.9.13"
    }
  },
  "nbformat": 4,
  "nbformat_minor": 0
}
